version https://git-lfs.github.com/spec/v1
oid sha256:1c63b94effd0bb78dbfcf839e5a2abb793bb405b77a91f79f1ef53526fee5dc2
size 66445
