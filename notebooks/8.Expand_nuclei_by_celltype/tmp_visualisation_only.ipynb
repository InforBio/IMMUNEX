version https://git-lfs.github.com/spec/v1
oid sha256:80bd3361d3ab76d2e12b3c20661e8b4780f02cbed190290b47629976ecbfe35e
size 20502791
