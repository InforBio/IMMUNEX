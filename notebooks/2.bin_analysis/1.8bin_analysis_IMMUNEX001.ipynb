{
 "cells": [
  {
   "cell_type": "code",
   "execution_count": null,
   "metadata": {},
   "outputs": [],
   "source": [
    "import scanpy as sc\n",
    "import pandas as pd\n",
    "import numpy as np\n",
    "import squidpy as sq\n",
    "import matplotlib.pyplot as plt\n",
    "import seaborn as sns\n",
    "import os\n",
    "from tqdm import tqdm\n",
    "from anndata import AnnData\n",
    "import scipy.sparse as sp\n",
    "\n",
    "import os\n",
    "os.environ['TF_CPP_MIN_LOG_LEVEL'] = '2'\n",
    "\n",
    "\n",
    "# Load the data\n",
    "sample_id = \"IMMUNEX001\"\n",
    "adata = sc.read_10x_h5(f\"/scratch/IMMUNEX/OUTPUT/Visium_NSCLC_{sample_id}/outs/binned_outputs/square_008um/filtered_feature_bc_matrix.h5\")\n",
    "adata.raw = adata\n",
    "adata.uns['sample_id'] = sample_id\n",
    "adata\n"
   ]
  },
  {
   "cell_type": "code",
   "execution_count": null,
   "metadata": {},
   "outputs": [],
   "source": [
    "import pandas as pd\n",
    "\n",
    "# Load coordinates from Space Ranger output (adjust path as needed)\n",
    "parquet_path = f\"/scratch/IMMUNEX/OUTPUT/Visium_NSCLC_{sample_id}/outs/binned_outputs/square_008um/spatial/tissue_positions.parquet\"\n",
    "coords = pd.read_parquet(parquet_path)\n",
    "display(coords.head())\n",
    "\n",
    "# Set barcode index if not done\n",
    "coords.set_index(\"barcode\", inplace=True)\n",
    "\n",
    "# Join without suffix — no conflict now\n",
    "adata.obs = adata.obs.join(coords, how=\"left\")\n",
    "display(adata.obs)\n",
    "\n",
    "# Keep only bins with spatial coordinates\n",
    "adata = adata[adata.obs[\"pxl_row_in_fullres\"].notnull()].copy()\n",
    "\n",
    "# Add to obsm\n",
    "adata.obsm[\"spatial\"] = adata.obs[[\"pxl_row_in_fullres\", \"pxl_col_in_fullres\"]].values\n",
    "\n",
    "adata.obs[\"library_id\"] = \"IMMUNEX001\"\n",
    "adata.uns[\"spatial\"] = {\n",
    "    \"IMMUNEX001\": {\n",
    "        \"images\": {\"hires\": None},\n",
    "        \"scalefactors\": {\n",
    "            \"tissue_hires_scalef\": 1.0,\n",
    "            \"spot_diameter_fullres\": 1.0\n",
    "        }\n",
    "    }\n",
    "}\n",
    "\n",
    "adata.obs\n"
   ]
  },
  {
   "cell_type": "code",
   "execution_count": null,
   "metadata": {},
   "outputs": [],
   "source": [
    "\n",
    "tls_annotation = pd.read_csv('/scratch/IMMUNEX/data/TLS_ANNOTATIONS/TLSIMMUNEX001.csv')\n",
    "tls_annotation.columns = ['barcode_8um','TLS']\n",
    "tls_annotation[['row_8', 'col_8']] = tls_annotation['barcode_8um'].str.extract(r's_008um_(\\d+)_(\\d+)', expand=True).astype(int)\n",
    "\n",
    "display(tls_annotation.head())\n",
    "\n",
    "import pandas as pd\n",
    "import numpy as np\n",
    "\n",
    "# adata.obs['TLS'] = 0\n",
    "\n",
    "# Extract row/col from 8µm barcodes\n",
    "tls_annotation[['row_8', 'col_8']] = tls_annotation['barcode_8um'].str.extract(r's_008um_(\\d+)_(\\d+)', expand=True).astype(int)\n",
    "tls_annotation.index = tls_annotation['barcode_8um']\n",
    "\n",
    "adata.obs = adata.obs.join(tls_annotation, how=\"left\")\n",
    "\n",
    "adata.obs.head()\n",
    "\n",
    "# # Loop over TLS rows where TLS is not NaN (i.e., presence)\n",
    "# for _, row in tqdm(tls_annotation[tls_annotation['TLS'].notna()].iterrows(), total=tls_annotation['TLS'].notna().sum(), desc=\"Mapping TLS to 2µm bins\"):\n",
    "#     row_2_start = row['row_8'] * 4\n",
    "#     row_2_end = row_2_start + 3\n",
    "#     col_2_start = row['col_8'] * 4\n",
    "#     col_2_end = col_2_start + 3\n",
    "\n",
    "#     # Find matching 2µm bins\n",
    "#     match = (\n",
    "#         (adata.obs['array_row'] >= row_2_start) & (adata.obs['array_row'] <= row_2_end) &\n",
    "#         (adata.obs['array_col'] >= col_2_start) & (adata.obs['array_col'] <= col_2_end)\n",
    "#     )\n",
    "\n",
    "#     # Set TLS = 1 for matched bins\n",
    "#     adata.obs.loc[match, 'TLS'] = 1\n"
   ]
  },
  {
   "cell_type": "code",
   "execution_count": null,
   "metadata": {},
   "outputs": [],
   "source": [
    "idx = adata.obs['TLS'].isna()\n",
    "adata.obs.loc[idx,'TLS'] = 'NoTLS'"
   ]
  },
  {
   "cell_type": "code",
   "execution_count": null,
   "metadata": {},
   "outputs": [],
   "source": [
    "adata.obs[\"library_id\"] = \"IMMUNEX001\"\n",
    "adata.uns[\"spatial\"] = {\n",
    "    \"VisiumHD_dummy\": {\n",
    "        \"images\": {\"hires\": None},\n",
    "        \"scalefactors\": {\n",
    "            \"tissue_hires_scalef\": 1.0,\n",
    "            \"spot_diameter_fullres\": 1.0\n",
    "        }\n",
    "    }\n",
    "}\n"
   ]
  },
  {
   "cell_type": "code",
   "execution_count": null,
   "metadata": {},
   "outputs": [],
   "source": []
  },
  {
   "cell_type": "code",
   "execution_count": null,
   "metadata": {},
   "outputs": [],
   "source": [
    "import seaborn as sns\n",
    "import matplotlib.pyplot as plt\n",
    "\n",
    "# Prepare data\n",
    "df = adata.obs.reset_index()\n",
    "\n",
    "plt.figure(figsize=(8, 8))\n",
    "sns.scatterplot(\n",
    "    data=df,\n",
    "    x=\"array_col\",\n",
    "    y=\"array_row\",\n",
    "    hue=\"TLS\",\n",
    "    palette=\"viridis\",\n",
    "    s=10,\n",
    "    linewidth=0,\n",
    "    alpha=0.8\n",
    ")\n",
    "\n",
    "plt.gca().invert_yaxis()\n",
    "plt.axis(\"equal\")\n",
    "plt.title(\"Visium HD 8µm bin layout (colored by n_counts)\")\n",
    "plt.xlabel(\"Array column\")\n",
    "plt.ylabel(\"Array row\")\n",
    "plt.tight_layout()\n",
    "plt.show()\n"
   ]
  },
  {
   "cell_type": "code",
   "execution_count": null,
   "metadata": {},
   "outputs": [],
   "source": []
  },
  {
   "cell_type": "code",
   "execution_count": null,
   "metadata": {},
   "outputs": [],
   "source": [
    "# Mitochondrial genes\n",
    "adata.var_names_make_unique()\n",
    "adata.var[\"mt\"] = adata.var_names.str.startswith(\"MT-\")\n",
    "sc.pp.calculate_qc_metrics(adata, qc_vars=[\"mt\"], inplace=True)\n"
   ]
  },
  {
   "cell_type": "code",
   "execution_count": null,
   "metadata": {},
   "outputs": [],
   "source": [
    "# # Plot QC\n",
    "sc.pl.scatter(adata, x='total_counts', y='pct_counts_mt')"
   ]
  },
  {
   "cell_type": "code",
   "execution_count": null,
   "metadata": {},
   "outputs": [],
   "source": [
    "adata.var_names_make_unique()\n",
    "adata.raw = adata.copy()\n",
    "sc.pl.violin(adata, ['n_genes_by_counts', 'total_counts', 'pct_counts_mt'], jitter=1, multi_panel=True, stripplot=False )\n"
   ]
  },
  {
   "cell_type": "code",
   "execution_count": null,
   "metadata": {},
   "outputs": [],
   "source": [
    "# sc.pl.spatial(\n",
    "#     adata,\n",
    "#     color=[\"TLS\", \"total_counts\", \"pct_counts_mt\"],\n",
    "#     size=0.1,\n",
    "#     cmap=\"viridis\",  # or specify list of colormaps for each\n",
    "#     ncols=3,         # number of panels per row\n",
    "#     show=True\n",
    "# )\n"
   ]
  },
  {
   "cell_type": "code",
   "execution_count": null,
   "metadata": {},
   "outputs": [],
   "source": [
    "# Filter out extremely low-count bins, but keep most signal\n",
    "sc.pp.filter_cells(adata, min_counts=10)\n",
    "sc.pp.filter_genes(adata, min_cells=10)\n",
    "adata"
   ]
  },
  {
   "cell_type": "code",
   "execution_count": null,
   "metadata": {},
   "outputs": [],
   "source": [
    "# Normalize and log1p\n",
    "sc.pp.normalize_total(adata, target_sum=1e4)\n",
    "sc.pp.log1p(adata)\n",
    "\n",
    "# # Plot total counts after normalization\n",
    "sc.pl.highest_expr_genes(adata, n_top=20)"
   ]
  },
  {
   "cell_type": "code",
   "execution_count": null,
   "metadata": {},
   "outputs": [],
   "source": [
    "sns.histplot(adata.obs['pct_counts_mt'], bins=100)\n",
    "plt.title(\"pct_counts_mt per 2µm bin\")\n",
    "plt.show()\n",
    "\n",
    "sns.histplot(adata.obs['total_counts'], bins=100)\n",
    "plt.title(\"Total Counts per 2µm bin\")\n",
    "plt.show()\n",
    "\n",
    "sns.histplot(adata.obs['n_genes_by_counts'], bins=100)\n",
    "plt.title(\"Detected Genes per 2µm bin\")\n",
    "plt.show()\n"
   ]
  },
  {
   "cell_type": "code",
   "execution_count": null,
   "metadata": {},
   "outputs": [],
   "source": []
  },
  {
   "cell_type": "code",
   "execution_count": null,
   "metadata": {},
   "outputs": [],
   "source": []
  },
  {
   "cell_type": "code",
   "execution_count": 9,
   "metadata": {},
   "outputs": [],
   "source": []
  },
  {
   "cell_type": "code",
   "execution_count": 34,
   "metadata": {},
   "outputs": [
    {
     "data": {
      "text/plain": [
       "AnnData object with n_obs × n_vars = 672507 × 18207\n",
       "    obs: 'in_tissue', 'array_row', 'array_col', 'pxl_row_in_fullres', 'pxl_col_in_fullres', 'library_id', 'barcode_8um', 'TLS', 'row_8', 'col_8', 'n_genes_by_counts', 'log1p_n_genes_by_counts', 'total_counts', 'log1p_total_counts', 'pct_counts_in_top_50_genes', 'pct_counts_in_top_100_genes', 'pct_counts_in_top_200_genes', 'pct_counts_in_top_500_genes', 'total_counts_mt', 'log1p_total_counts_mt', 'pct_counts_mt', 'n_counts'\n",
       "    var: 'gene_ids', 'feature_types', 'genome', 'mt', 'n_cells_by_counts', 'mean_counts', 'log1p_mean_counts', 'pct_dropout_by_counts', 'total_counts', 'log1p_total_counts', 'n_cells'\n",
       "    uns: 'sample_id', 'spatial', 'TLS_colors', 'log1p'\n",
       "    obsm: 'spatial'"
      ]
     },
     "execution_count": 34,
     "metadata": {},
     "output_type": "execute_result"
    }
   ],
   "source": [
    "adata"
   ]
  },
  {
   "cell_type": "code",
   "execution_count": null,
   "metadata": {},
   "outputs": [],
   "source": []
  },
  {
   "cell_type": "code",
   "execution_count": null,
   "metadata": {},
   "outputs": [],
   "source": [
    "sc.pp.highly_variable_genes(adata, flavor=\"seurat\", n_top_genes=2000)\n",
    "sc.pl.highly_variable_genes(adata)\n",
    "\n",
    "adata = adata[:, adata.var.highly_variable]\n",
    "sc.pp.scale(adata, max_value=10)\n",
    "sc.tl.pca(adata, svd_solver=\"arpack\")\n",
    "sc.pl.pca_variance_ratio(adata, log=True)\n",
    "\n"
   ]
  },
  {
   "cell_type": "code",
   "execution_count": null,
   "metadata": {},
   "outputs": [],
   "source": [
    "# Neighbors and clustering\n",
    "sc.pp.neighbors(adata, n_neighbors=15, n_pcs=7)"
   ]
  },
  {
   "cell_type": "code",
   "execution_count": null,
   "metadata": {},
   "outputs": [],
   "source": [
    "sc.tl.leiden(adata, resolution=0.5)"
   ]
  },
  {
   "cell_type": "code",
   "execution_count": null,
   "metadata": {},
   "outputs": [],
   "source": [
    "sc.tl.umap(adata, min_dist=0.5, spread=1.0, random_state=42)"
   ]
  },
  {
   "cell_type": "code",
   "execution_count": null,
   "metadata": {},
   "outputs": [],
   "source": [
    "\n",
    "# Visualize clustering\n",
    "sc.pl.umap(adata, color=[\"leiden\"], title=\"Leiden clusters\")"
   ]
  },
  {
   "cell_type": "code",
   "execution_count": null,
   "metadata": {},
   "outputs": [],
   "source": [
    "# # Show spatial clustering\n",
    "sq.pl.spatial_scatter(adata, color=\"leiden\", size=1.0, title=\"Leiden clusters (spatial)\")\n"
   ]
  },
  {
   "cell_type": "code",
   "execution_count": null,
   "metadata": {},
   "outputs": [],
   "source": [
    "# Build spatial neighbors graph\n",
    "sq.gr.spatial_neighbors(adata, coord_type=\"grid\")\n"
   ]
  },
  {
   "cell_type": "code",
   "execution_count": null,
   "metadata": {},
   "outputs": [],
   "source": [
    "\n",
    "# Spatial autocorrelation (Moran’s I)\n",
    "sq.gr.spatial_autocorr(adata, mode=\"moran\")\n",
    "sq.pl.spatial_autocorr(adata, mode=\"moran\", genes=adata.var.highly_variable[:6].tolist())\n"
   ]
  },
  {
   "cell_type": "code",
   "execution_count": null,
   "metadata": {},
   "outputs": [],
   "source": []
  },
  {
   "cell_type": "code",
   "execution_count": null,
   "metadata": {},
   "outputs": [],
   "source": []
  },
  {
   "cell_type": "code",
   "execution_count": null,
   "metadata": {},
   "outputs": [],
   "source": []
  },
  {
   "cell_type": "code",
   "execution_count": null,
   "metadata": {},
   "outputs": [],
   "source": []
  }
 ],
 "metadata": {
  "kernelspec": {
   "display_name": "Python 3 (ipykernel)",
   "language": "python",
   "name": "python3"
  },
  "language_info": {
   "codemirror_mode": {
    "name": "ipython",
    "version": 3
   },
   "file_extension": ".py",
   "mimetype": "text/x-python",
   "name": "python",
   "nbconvert_exporter": "python",
   "pygments_lexer": "ipython3",
   "version": "3.10.17"
  }
 },
 "nbformat": 4,
 "nbformat_minor": 4
}
