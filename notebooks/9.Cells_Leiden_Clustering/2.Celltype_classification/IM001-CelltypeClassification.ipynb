version https://git-lfs.github.com/spec/v1
oid sha256:a9e3e19ce7624d9af0c83cb52b1ab0c3159ad71564163c4ddc970def363ea414
size 26368108
