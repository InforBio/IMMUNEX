{
 "cells": [
  {
   "cell_type": "code",
   "execution_count": 2,
   "id": "67198029-ca96-462d-8143-e14e5417a27a",
   "metadata": {},
   "outputs": [],
   "source": [
    "#!/usr/bin/env python\n",
    "import os\n",
    "import re\n",
    "import time\n",
    "import logging\n",
    "import scanpy as sc\n",
    "import matplotlib.pyplot as plt\n",
    "import numpy as np\n",
    "import cv2\n",
    "from pathlib import Path\n",
    "import bin2cell as b2c\n",
    "import tifffile\n",
    "import itertools"
   ]
  },
  {
   "cell_type": "code",
   "execution_count": 3,
   "id": "578ba14b-4c57-453c-8397-c10e354beac9",
   "metadata": {},
   "outputs": [],
   "source": [
    "Sample = ['IMMUNEX002']\n",
    "\n",
    "base_sample_path = Path(\"/scratch/IMMUNEX/OUTPUT\")\n",
    "base_he_image_path = Path(\"/scratch/IMMUNEX/PJ2410310_250214/IMAGE/HE_nanozoomer_tif\")\n",
    "base_output_dir = Path(\"../../results/intermediate/bin2cell\")\n",
    "mpp = 0.7\n",
    "gene_filter_min_cells = 1\n",
    "cell_filter_min_counts = 1\n",
    "grid_image_sigma = 5\n",
    "\n",
    "# TIFF loader patch\n",
    "def patched_load_image(image_path, **kwargs):\n",
    "    print(f\"Loading image via tifffile: {image_path}\")\n",
    "    img = tifffile.imread(image_path)\n",
    "    if img.ndim == 2:\n",
    "        img = np.stack([img] * 3, axis=-1)\n",
    "    elif img.shape[0] == 3 and img.ndim == 3:\n",
    "        img = np.moveaxis(img, 0, -1)\n",
    "    return img\n",
    "\n",
    "# Logging helper\n",
    "def print_log(message, type=\"info\"):\n",
    "    print(message)\n",
    "    if type == \"error\":\n",
    "        logging.error(message)\n",
    "    elif type == \"warning\":\n",
    "        logging.warning(message)\n",
    "    elif type == \"success\":\n",
    "        logging.info(message)\n",
    "    else:\n",
    "        logging.info(message)\n"
   ]
  },
  {
   "cell_type": "code",
   "execution_count": 9,
   "id": "84755d7d-b254-4188-afdb-29541caad776",
   "metadata": {},
   "outputs": [],
   "source": [
    "# Match HE images\n",
    "nanozoomer_tif = {}\n",
    "\n",
    "for file in base_he_image_path.glob(\"*.tif\"):\n",
    "    match = re.match(r\"(IMMUNEX\\d+)(.*)\\.tif\", file.name)\n",
    "    if match:\n",
    "        sample_id, suffix = match.groups()\n",
    "        nanozoomer_tif[sample_id] = suffix\n",
    "    \n",
    "sample_folders = sorted(base_sample_path.glob(\"Visium_NSCLC_*\"))\n",
    "\n",
    "sample_folders_dict = {\n",
    "    folder.name.split(\"Visium_NSCLC_\")[1]: folder\n",
    "    for folder in sample_folders\n",
    "}\n",
    "\n",
    "\n",
    "mask_regions = [\n",
    "    {\"x\": 250, \"y\": 250, \"w\": 150, \"h\": 150}\n",
    "]\n",
    "\n",
    "stardist_he = {\n",
    "    \"stardist_model\": \"2D_versatile_he\",\n",
    "    \"prob_thresh\": 0.0001,\n",
    "    \"block_size\": 4096,\n",
    "    \"min_overlap\": 64,\n",
    "    \"context\": 128\n",
    "}\n",
    "\n",
    "stardist_gex = {\n",
    "    \"stardist_model\": \"2D_versatile_fluo\",\n",
    "    \"prob_thresh\": 0.1,\n",
    "    \"nms_thresh\": 0.3,\n",
    "    \"block_size\": 4096,\n",
    "    \"min_overlap\": 64,\n",
    "    \"context\": 128,\n",
    "    \"show_progress\": True\n",
    "}\n",
    "\n",
    "parameter_sweep = []\n"
   ]
  },
  {
   "cell_type": "code",
   "execution_count": null,
   "id": "78ad50b2-91ca-4920-a553-e0790ee4b149",
   "metadata": {},
   "outputs": [],
   "source": []
  },
  {
   "cell_type": "code",
   "execution_count": 15,
   "id": "36b6a157-8922-4400-9927-76c4c0e673dd",
   "metadata": {},
   "outputs": [
    {
     "data": {
      "text/plain": [
       "[PosixPath('/scratch/IMMUNEX/OUTPUT/Visium_NSCLC_IMMUNEX001'),\n",
       " PosixPath('/scratch/IMMUNEX/OUTPUT/Visium_NSCLC_IMMUNEX002'),\n",
       " PosixPath('/scratch/IMMUNEX/OUTPUT/Visium_NSCLC_IMMUNEX003'),\n",
       " PosixPath('/scratch/IMMUNEX/OUTPUT/Visium_NSCLC_IMMUNEX004'),\n",
       " PosixPath('/scratch/IMMUNEX/OUTPUT/Visium_NSCLC_IMMUNEX005'),\n",
       " PosixPath('/scratch/IMMUNEX/OUTPUT/Visium_NSCLC_IMMUNEX006'),\n",
       " PosixPath('/scratch/IMMUNEX/OUTPUT/Visium_NSCLC_IMMUNEX007'),\n",
       " PosixPath('/scratch/IMMUNEX/OUTPUT/Visium_NSCLC_IMMUNEX008'),\n",
       " PosixPath('/scratch/IMMUNEX/OUTPUT/Visium_NSCLC_IMMUNEX009'),\n",
       " PosixPath('/scratch/IMMUNEX/OUTPUT/Visium_NSCLC_IMMUNEX010'),\n",
       " PosixPath('/scratch/IMMUNEX/OUTPUT/Visium_NSCLC_IMMUNEX011'),\n",
       " PosixPath('/scratch/IMMUNEX/OUTPUT/Visium_NSCLC_IMMUNEX012'),\n",
       " PosixPath('/scratch/IMMUNEX/OUTPUT/Visium_NSCLC_IMMUNEX013'),\n",
       " PosixPath('/scratch/IMMUNEX/OUTPUT/Visium_NSCLC_IMMUNEX014'),\n",
       " PosixPath('/scratch/IMMUNEX/OUTPUT/Visium_NSCLC_IMMUNEX015'),\n",
       " PosixPath('/scratch/IMMUNEX/OUTPUT/Visium_NSCLC_IMMUNEX016'),\n",
       " PosixPath('/scratch/IMMUNEX/OUTPUT/Visium_NSCLC_IMMUNEX017'),\n",
       " PosixPath('/scratch/IMMUNEX/OUTPUT/Visium_NSCLC_IMMUNEX018')]"
      ]
     },
     "execution_count": 15,
     "metadata": {},
     "output_type": "execute_result"
    }
   ],
   "source": [
    "sample_folders\n"
   ]
  },
  {
   "cell_type": "code",
   "execution_count": 12,
   "id": "ab71d89d-5c31-4092-b612-e9308c95efd8",
   "metadata": {},
   "outputs": [
    {
     "ename": "NameError",
     "evalue": "name 'sample_folder' is not defined",
     "output_type": "error",
     "traceback": [
      "\u001b[0;31m---------------------------------------------------------------------------\u001b[0m",
      "\u001b[0;31mNameError\u001b[0m                                 Traceback (most recent call last)",
      "Cell \u001b[0;32mIn[12], line 11\u001b[0m\n\u001b[1;32m      8\u001b[0m IMMUNEXID \u001b[38;5;241m=\u001b[39m Sample[\u001b[38;5;241m0\u001b[39m]\n\u001b[1;32m      9\u001b[0m \u001b[38;5;66;03m# IMMUNEXID = sample_folder.name.split(\"_\")[-1]\u001b[39;00m\n\u001b[0;32m---> 11\u001b[0m \u001b[38;5;28mprint\u001b[39m(\u001b[38;5;124m'\u001b[39m\u001b[38;5;124mProcessing: \u001b[39m\u001b[38;5;124m'\u001b[39m,IMMUNEXID, \u001b[43msample_folder\u001b[49m)\n\u001b[1;32m     13\u001b[0m start_time_sample \u001b[38;5;241m=\u001b[39m time\u001b[38;5;241m.\u001b[39mtime()\n\u001b[1;32m     14\u001b[0m step_time \u001b[38;5;241m=\u001b[39m time\u001b[38;5;241m.\u001b[39mtime()\n",
      "\u001b[0;31mNameError\u001b[0m: name 'sample_folder' is not defined"
     ]
    }
   ],
   "source": [
    "config_name = (\n",
    "    f\"he{str(stardist_he['prob_thresh']).replace('.', '')}_\"\n",
    "    f\"gex{str(stardist_gex['prob_thresh']).replace('.', '')}_\"\n",
    "    f\"nms{str(stardist_gex['nms_thresh']).replace('.', '')}_\"\n",
    "    f\"mask{mask_regions[0]['x']}_{mask_regions[0]['y']}_{mask_regions[0]['w']}x{mask_regions[0]['h']}\"\n",
    ")\n",
    "\n",
    "IMMUNEXID = Sample[0]\n",
    "# IMMUNEXID = sample_folder.name.split(\"_\")[-1]\n",
    "\n",
    "print('Processing: ',IMMUNEXID, sample_folder)\n",
    "\n",
    "start_time_sample = time.time()\n",
    "step_time = time.time()\n",
    "path = sample_folder / \"outs/binned_outputs/square_002um/\"\n",
    "source_image_path = base_he_image_path / f\"{IMMUNEXID}{nanozoomer_tif[IMMUNEXID]}.tif\"\n",
    "output_dir = base_output_dir / f\"{IMMUNEXID}__{config_name}\"\n",
    "output_dir.mkdir(parents=True, exist_ok=True)\n",
    "print(output_dir)\n",
    "os.getcwd()"
   ]
  },
  {
   "cell_type": "code",
   "execution_count": null,
   "id": "db527020-19b1-4436-bfff-fffca167e000",
   "metadata": {},
   "outputs": [],
   "source": []
  },
  {
   "cell_type": "code",
   "execution_count": null,
   "id": "f9a47fd9-65a2-4f10-8d4b-e4c90af2b3c2",
   "metadata": {},
   "outputs": [],
   "source": [
    "\n",
    "log_path = f\"{output_dir}/{IMMUNEXID}_{config_name}.log\"\n",
    "logging.basicConfig(filename=log_path, level=logging.INFO,\n",
    "                    format=\"%(asctime)s [%(levelname)s] %(message)s\")\n",
    "\n",
    "print_log(f\"Starting processing for {IMMUNEXID}\")\n",
    "print_log(f\"==== Starting parameter set: {config_name} ====\")\n",
    "\n",
    "\n",
    "images_dir = output_dir / \"images\"\n",
    "images_dir.mkdir(exist_ok=True)\n",
    "he_img_out = images_dir / \"he.tiff\"\n",
    "he_seg_out = images_dir / \"he.npz\"\n",
    "gex_img_out = images_dir / \"gex.tiff\"\n",
    "gex_seg_out = images_dir / \"gex.npz\"\n",
    "\n",
    "\n",
    "adata = b2c.read_visium(path, source_image_path=source_image_path)\n",
    "adata.var_names_make_unique()\n",
    "print_log(adata)\n",
    "\n",
    "sc.pp.filter_genes(adata, min_cells=gene_filter_min_cells)\n",
    "print_log(adata)\n",
    "\n",
    "sc.pp.filter_cells(adata, min_counts=cell_filter_min_counts)\n",
    "print_log(adata)\n",
    "\n",
    "b2c.bin2cell.load_image = patched_load_image\n",
    "print_log(adata)\n"
   ]
  },
  {
   "cell_type": "code",
   "execution_count": 7,
   "id": "6f38c5b1-ca69-4556-8ef6-e582af4d82cb",
   "metadata": {},
   "outputs": [
    {
     "ename": "NameError",
     "evalue": "name 'adata' is not defined",
     "output_type": "error",
     "traceback": [
      "\u001b[0;31m---------------------------------------------------------------------------\u001b[0m",
      "\u001b[0;31mNameError\u001b[0m                                 Traceback (most recent call last)",
      "Cell \u001b[0;32mIn[7], line 1\u001b[0m\n\u001b[0;32m----> 1\u001b[0m b2c\u001b[38;5;241m.\u001b[39mdestripe(\u001b[43madata\u001b[49m)\n\u001b[1;32m      2\u001b[0m \u001b[38;5;28mprint\u001b[39m(adata)\n\u001b[1;32m      4\u001b[0m b2c\u001b[38;5;241m.\u001b[39mscaled_he_image(adata, mpp\u001b[38;5;241m=\u001b[39mmpp, save_path\u001b[38;5;241m=\u001b[39mhe_img_out)\n",
      "\u001b[0;31mNameError\u001b[0m: name 'adata' is not defined"
     ]
    }
   ],
   "source": [
    "b2c.destripe(adata)\n",
    "print(adata)\n",
    "\n",
    "b2c.scaled_he_image(adata, mpp=mpp, save_path=he_img_out)\n",
    "print(adata)\n"
   ]
  },
  {
   "cell_type": "code",
   "execution_count": null,
   "id": "09df6a9a-d25a-490a-bc83-bd51c03f794f",
   "metadata": {},
   "outputs": [],
   "source": []
  },
  {
   "cell_type": "code",
   "execution_count": null,
   "id": "98de047f-edd6-4ec6-bd73-89939b6b7d99",
   "metadata": {},
   "outputs": [],
   "source": [
    "mask_region = mask_regions[0]\n",
    "\n",
    "mask = (\n",
    "            (adata.obs['array_row'] >= mask_region[\"y\"]) &\n",
    "            (adata.obs['array_row'] < mask_region[\"y\"] + mask_region[\"h\"]) &\n",
    "            (adata.obs['array_col'] >= mask_region[\"x\"]) &\n",
    "            (adata.obs['array_col'] < mask_region[\"x\"] + mask_region[\"w\"])\n",
    "        )\n",
    "bdata = adata[mask]\n",
    "print(bdata)\n",
    "\n",
    "sc.set_figure_params(figsize=[10,10], dpi=100)\n",
    "sc.pl.spatial(bdata, color=[None, \"n_counts\", \"n_counts_adjusted\"], img_key=f\"{mpp}_mpp_150_buffer\", basis=\"spatial_cropped_150_buffer\", cmap='Reds', show=False)\n",
    "plt.savefig(output_dir / \"spatial_destriping.png\")\n",
    "plt.close()\n",
    "plt.show()\n"
   ]
  },
  {
   "cell_type": "code",
   "execution_count": null,
   "id": "6217af98-001d-4b1e-a018-139ea3eee688",
   "metadata": {},
   "outputs": [],
   "source": [
    "b2c.stardist(str(he_img_out), str(he_seg_out), **stardist_he)\n",
    "b2c.insert_labels(adata, str(he_seg_out), basis=\"spatial\", spatial_key=\"spatial_cropped_150_buffer\", mpp=mpp, labels_key=\"labels_he\")\n",
    "print(adata)"
   ]
  },
  {
   "cell_type": "code",
   "execution_count": null,
   "id": "9f3a9565-cf00-49e8-95b7-ee81179ecbf6",
   "metadata": {},
   "outputs": [],
   "source": [
    "b2c.expand_labels(adata, labels_key=\"labels_he\", expanded_labels_key=\"labels_he_expanded\")\n",
    "print(adata)"
   ]
  },
  {
   "cell_type": "code",
   "execution_count": null,
   "id": "b90e3bad-50a6-4d14-b3a3-07698432dc15",
   "metadata": {},
   "outputs": [],
   "source": [
    "crop = b2c.get_crop(adata[mask], basis=\"spatial\", spatial_key=\"spatial_cropped_150_buffer\", mpp=mpp)\n",
    "rendered = b2c.view_stardist_labels(image_path=he_img_out, labels_npz_path=he_seg_out, crop=crop, alpha_boundary=1, normalize_img=True, alpha=0.1)\n",
    "plt.imshow(rendered)\n",
    "plt.axis(\"off\")\n",
    "plt.tight_layout()\n",
    "plt.savefig(output_dir / \"he_segmentation_overlay.png\", dpi=300, bbox_inches='tight', pad_inches=0)\n",
    "plt.show()\n",
    "plt.close()"
   ]
  },
  {
   "cell_type": "code",
   "execution_count": null,
   "id": "230fb1b5-7f90-4002-8d68-9e7abaafabc1",
   "metadata": {},
   "outputs": [],
   "source": [
    "import importlib\n",
    "importlib.reload(b2c.bin2cell)\n",
    "img = b2c.grid_image(adata, \"n_counts_adjusted\", mpp=mpp, sigma=grid_image_sigma)\n",
    "cv2.imwrite(str(gex_img_out), img)\n"
   ]
  },
  {
   "cell_type": "code",
   "execution_count": null,
   "id": "f0513bbc-cea1-4759-8057-af0a7bb4d947",
   "metadata": {},
   "outputs": [],
   "source": [
    "b2c.stardist(str(gex_img_out), str(gex_seg_out), **stardist_gex)"
   ]
  },
  {
   "cell_type": "code",
   "execution_count": null,
   "id": "6eea6324-8162-4257-a741-4999d01b3008",
   "metadata": {},
   "outputs": [],
   "source": [
    "\n",
    "b2c.insert_labels(adata, str(gex_seg_out), basis=\"array\", mpp=mpp, labels_key=\"labels_gex\")\n",
    "print(adata)"
   ]
  },
  {
   "cell_type": "code",
   "execution_count": null,
   "id": "5f0c1615-c724-4c8a-8443-5706440f6bbd",
   "metadata": {},
   "outputs": [],
   "source": [
    "\n",
    "bdata = adata[mask]\n",
    "bdata = bdata[bdata.obs['labels_gex'] > 0]\n",
    "print(bdata)\n",
    "bdata.obs['labels_gex'] = bdata.obs['labels_gex'].astype(str)\n",
    "print(bdata)\n",
    "\n",
    "sc.pl.spatial(bdata, color=[None, \"labels_gex\"], img_key=f\"{mpp}_mpp_150_buffer\", basis=\"spatial_cropped_150_buffer\", show=False)\n",
    "plt.savefig(output_dir / \"gex_segmentation_labels_gex_overlay.png\", dpi=300, bbox_inches='tight', pad_inches=0)\n",
    "plt.show()\n",
    "plt.close()"
   ]
  },
  {
   "cell_type": "code",
   "execution_count": null,
   "id": "6ad6a303-e23f-4162-8232-aa4214665cf1",
   "metadata": {},
   "outputs": [],
   "source": [
    "\n",
    "crop = b2c.get_crop(bdata, basis=\"array\", mpp=mpp)\n",
    "rendered = b2c.view_labels(image_path=gex_img_out, labels_npz_path=gex_seg_out, crop=crop, stardist_normalize=True)\n",
    "plt.imshow(rendered)\n",
    "plt.axis(\"off\")\n",
    "plt.tight_layout()\n",
    "plt.savefig(output_dir / \"gex_segmentation_overlay_normalized.png\", dpi=300, bbox_inches='tight', pad_inches=0)\n",
    "plt.show()\n",
    "plt.close()\n"
   ]
  },
  {
   "cell_type": "code",
   "execution_count": null,
   "id": "533ffe83-2cd0-47c1-85f5-b270437a668f",
   "metadata": {},
   "outputs": [],
   "source": [
    "\n",
    "b2c.salvage_secondary_labels(adata, primary_label=\"labels_he_expanded\", secondary_label=\"labels_gex\", labels_key=\"labels_joint\")\n",
    "\n",
    "bdata = adata[mask]\n",
    "bdata = bdata[bdata.obs['labels_joint'] > 0]\n",
    "bdata.obs['labels_joint'] = bdata.obs['labels_joint'].astype(str)\n",
    "sc.pl.spatial(bdata, color=[None, \"labels_joint_source\", \"labels_joint\"], img_key=f\"{mpp}_mpp_150_buffer\", basis=\"spatial_cropped_150_buffer\", show=False)\n",
    "plt.savefig(output_dir / \"labels_joint_overlay.png\", dpi=300, bbox_inches='tight', pad_inches=0)\n",
    "plt.show()\n",
    "plt.close()\n"
   ]
  },
  {
   "cell_type": "code",
   "execution_count": null,
   "id": "146fee44-4a41-49ea-ab57-7cbf0e05e3a9",
   "metadata": {},
   "outputs": [],
   "source": [
    "ddata"
   ]
  },
  {
   "cell_type": "code",
   "execution_count": null,
   "id": "3a35e353-5b3e-45e8-8b93-2a3424c95d3e",
   "metadata": {},
   "outputs": [],
   "source": [
    "ddata = b2c.bin_to_cell(bdata, labels_key=\"labels_joint\", spatial_keys=[\"spatial\", \"spatial_cropped_150_buffer\"])\n",
    "sc.pl.spatial(ddata, color=[\"bin_count\",\"labels_joint_source\"], basis=\"spatial_cropped_150_buffer\", img_key=f\"{mpp}_mpp_150_buffer\", show=False)\n",
    "plt.savefig(output_dir / \"spatial_cell_density.pdf\")\n",
    "plt.show()\n",
    "plt.close()"
   ]
  },
  {
   "cell_type": "code",
   "execution_count": null,
   "id": "98f35dfe-0b8d-4a36-8fde-5338aa743555",
   "metadata": {},
   "outputs": [],
   "source": [
    "cdata = b2c.bin_to_cell(adata, labels_key=\"labels_joint\", spatial_keys=[\"spatial\", \"spatial_cropped_150_buffer\"])\n",
    "sc.pl.spatial(cdata, color=[\"bin_count\",'labels_joint_source'], basis=\"spatial_cropped_150_buffer\", img_key=f\"{mpp}_mpp_150_buffer\", show=False)\n",
    "plt.savefig(output_dir / \"spatial_cell_density.pdf\")\n",
    "plt.show()\n",
    "plt.close()"
   ]
  },
  {
   "cell_type": "code",
   "execution_count": null,
   "id": "991581f0-65c0-42b3-bc23-90b31fa0becb",
   "metadata": {},
   "outputs": [],
   "source": [
    "\n",
    "num_bins = adata.n_obs\n",
    "num_genes = adata.n_vars\n",
    "total_umis = adata.X.sum()\n",
    "avg_umis_per_bin = total_umis / num_bins if num_bins > 0 else 0\n",
    "\n",
    "num_cells = cdata.n_obs\n",
    "avg_bin_per_cell = np.mean(cdata.obs['bin_count']) if 'bin_count' in cdata.obs else 0\n",
    "\n",
    "logging.info(f\"STATISTICS for {IMMUNEXID}:\")\n",
    "logging.info(f\"- Binned data: {num_bins} bins, {num_genes} genes\")\n",
    "logging.info(f\"- Total UMIs: {total_umis:.0f}, Avg UMIs per bin: {avg_umis_per_bin:.2f}\")\n",
    "logging.info(f\"- Segmented cells: {num_cells}, Avg bins per cell: {avg_bin_per_cell:.2f}\")\n",
    "\n",
    "elapsed = time.time() - start_time_sample\n",
    "print_log(f\"SUCCESS: {IMMUNEXID} processed in {elapsed:.2f}s\")"
   ]
  },
  {
   "cell_type": "code",
   "execution_count": null,
   "id": "109ef8ef-a984-4a23-aa92-b2bd8d9567ab",
   "metadata": {},
   "outputs": [],
   "source": []
  },
  {
   "cell_type": "code",
   "execution_count": null,
   "id": "caacb726-23df-4828-ae7b-6217812fb152",
   "metadata": {},
   "outputs": [],
   "source": []
  },
  {
   "cell_type": "code",
   "execution_count": null,
   "id": "235e9353-2077-45c8-a10f-e0658a5de068",
   "metadata": {},
   "outputs": [],
   "source": []
  }
 ],
 "metadata": {
  "kernelspec": {
   "display_name": "Python 3 (ipykernel)",
   "language": "python",
   "name": "python3"
  },
  "language_info": {
   "codemirror_mode": {
    "name": "ipython",
    "version": 3
   },
   "file_extension": ".py",
   "mimetype": "text/x-python",
   "name": "python",
   "nbconvert_exporter": "python",
   "pygments_lexer": "ipython3",
   "version": "3.8.20"
  }
 },
 "nbformat": 4,
 "nbformat_minor": 5
}
