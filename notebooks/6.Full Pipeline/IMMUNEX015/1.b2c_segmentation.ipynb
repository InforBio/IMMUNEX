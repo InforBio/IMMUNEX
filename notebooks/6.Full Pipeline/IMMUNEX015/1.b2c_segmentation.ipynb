{
 "cells": [
  {
   "cell_type": "code",
   "execution_count": null,
   "id": "767a61af-d987-45f3-b3dd-0038c98a2884",
   "metadata": {},
   "outputs": [],
   "source": [
    "import tifffile\n",
    "import matplotlib.pyplot as plt\n",
    "import scanpy as sc\n",
    "import numpy as np\n",
    "import os\n",
    "import bin2cell as b2c\n",
    "\n",
    "def patched_load_image(image_path, **kwargs):\n",
    "    print(f\"Loading image via tifffile: {image_path}\")\n",
    "    img = tifffile.imread(image_path)\n",
    "    if img.ndim == 2:\n",
    "        img = np.stack([img] * 3, axis=-1)\n",
    "    elif img.shape[0] == 3 and img.ndim == 3:\n",
    "        img = np.moveaxis(img, 0, -1)\n",
    "    return img"
   ]
  },
  {
   "cell_type": "code",
   "execution_count": null,
   "id": "9a3d8a12-1b73-4c5a-9e0d-b345d0519452",
   "metadata": {},
   "outputs": [],
   "source": []
  },
  {
   "cell_type": "code",
   "execution_count": null,
   "id": "9c7a1bc9-4d3b-4e22-a34d-1dbcca92ab29",
   "metadata": {},
   "outputs": [],
   "source": []
  },
  {
   "cell_type": "markdown",
   "id": "29c7a635-e68d-4fe5-8bfe-350583ffa7a0",
   "metadata": {},
   "source": [
    "# Loading data"
   ]
  },
  {
   "cell_type": "code",
   "execution_count": null,
   "id": "9c320938-b179-46d5-b8cf-70d14e72d801",
   "metadata": {},
   "outputs": [],
   "source": [
    "! ls '/home/mounim/rawdata/IMMUNEX/OUTPUT/Visium_NSCLC_IMMUNEX012/outs/binned_outputs/square_002um'"
   ]
  },
  {
   "cell_type": "code",
   "execution_count": null,
   "id": "ab10680e-3ed5-4bd2-8e3b-6be60fdea70e",
   "metadata": {},
   "outputs": [],
   "source": [
    "visium_path = '/home/mounim/rawdata/IMMUNEX/OUTPUT/Visium_NSCLC_IMMUNEX012/outs/'\n",
    "tiff_path = \"/home/mounim/rawdata/IMMUNEX/PJ2410310_250214/IMAGE/HE_nanozoomer_tif/IMMUNEX012_Visium_HE_x40_z0.tif\""
   ]
  },
  {
   "cell_type": "code",
   "execution_count": null,
   "id": "31ad023d-4f1c-4203-9a65-89324a8bf947",
   "metadata": {},
   "outputs": [],
   "source": [
    "binned_2um_path = visium_path + \"binned_outputs/square_002um/\"\n",
    "source_image_path = tiff_path\n",
    "spaceranger_image_path = visium_path + \"spatial\""
   ]
  },
  {
   "cell_type": "code",
   "execution_count": null,
   "id": "ab61fabc-bf43-4238-bc1e-ec3155c82c2a",
   "metadata": {},
   "outputs": [],
   "source": [
    "adata = b2c.read_visium(binned_2um_path, \n",
    "                        source_image_path = source_image_path, \n",
    "                        spaceranger_image_path = spaceranger_image_path\n",
    "                       )\n",
    "adata.var_names_make_unique()\n",
    "adata\n"
   ]
  },
  {
   "cell_type": "markdown",
   "id": "e75959d8-924e-4467-a1f7-eb57cb632a91",
   "metadata": {},
   "source": [
    "# Filters"
   ]
  },
  {
   "cell_type": "code",
   "execution_count": null,
   "id": "49a3e537-4202-49c8-bf95-3874287456de",
   "metadata": {},
   "outputs": [],
   "source": [
    "sc.pp.filter_genes(adata, min_cells=3)\n",
    "sc.pp.filter_cells(adata, min_counts=1)\n",
    "adata\n"
   ]
  },
  {
   "cell_type": "markdown",
   "id": "8d14568d-9558-42e4-83f0-955f08c54888",
   "metadata": {},
   "source": [
    "# Scaling"
   ]
  },
  {
   "cell_type": "code",
   "execution_count": null,
   "id": "c05d4949-a1c7-4ae6-ae89-86319a766af2",
   "metadata": {},
   "outputs": [],
   "source": [
    "os.getcwd()"
   ]
  },
  {
   "cell_type": "code",
   "execution_count": null,
   "id": "9ad4c9f2-4ac4-492b-bfcb-94b6cc8002c7",
   "metadata": {},
   "outputs": [],
   "source": [
    "# The b2c.scaled_he_image() function crops the image to an area around the actual spatial grid plus a default buffer of 150 pixels. The new coordinates are captured in .obsm[\"spatial_cropped_150_buffer\"] and the new image can be used for plotting by providing basis=\"spatial_cropped_150_buffer\" and img_key=\"0.5_mpp_150_buffer\" to sc.pl.spatial().\n",
    "buffer = 150\n",
    "mpp = 0.5\n",
    "\n",
    "try:\n",
    "    b2c.scaled_he_image(adata, mpp=mpp, save_path='/scratch/Projects/IMMUNEX/notebooks/6.Full Pipeline/IMMUNEX012/' + \"stardist/he.tiff\", buffer = 150)\n",
    "except:\n",
    "    # Patching loading to adapt to file format\n",
    "    b2c.bin2cell.load_image = patched_load_image\n",
    "    b2c.scaled_he_image(adata, mpp=mpp, save_path='/scratch/Projects/IMMUNEX/notebooks/6.Full Pipeline/IMMUNEX012/' + \"stardist/he.tiff\", buffer = 150)\n",
    "    # reload original function\n",
    "    importlib.reload(b2c.bin2cell) \n",
    "    "
   ]
  },
  {
   "cell_type": "markdown",
   "id": "e1f85a2f-957c-4c13-a1cb-0167e0bc2aee",
   "metadata": {},
   "source": [
    "# Destripe"
   ]
  },
  {
   "cell_type": "code",
   "execution_count": null,
   "id": "fc69c569-128b-4423-b56c-b6e6201feb66",
   "metadata": {},
   "outputs": [],
   "source": [
    "# The function b2c.destripe() is defined to correct for this. It identifies a quantile (default is 0.99) of total counts for each row and divides the counts of the spots in that row by that value. This procedure is then repeated for the columns and stored as .obs[\"n_counts_adjusted\"]).\n",
    "b2c.destripe(adata)"
   ]
  },
  {
   "cell_type": "code",
   "execution_count": null,
   "id": "8aaae126-cc4a-4e0a-a20f-1aaca4cd3c3f",
   "metadata": {},
   "outputs": [],
   "source": []
  },
  {
   "cell_type": "markdown",
   "id": "f42585b4-bc0b-4f11-aea1-4410e89fba59",
   "metadata": {},
   "source": [
    "# Align coordinates"
   ]
  },
  {
   "cell_type": "code",
   "execution_count": null,
   "id": "db90322f-51c9-4e8a-9651-c624f941dc2d",
   "metadata": {},
   "outputs": [],
   "source": [
    "import json\n",
    "sf_path = binned_2um_path + 'spatial/scalefactors_json.json'\n",
    "with open(sf_path) as f:\n",
    "    scale = json.load(f)['tissue_hires_scalef']\n",
    "    \n",
    "print(f\"Scale factor (pixel → spatial): {scale:.6f}\")\n",
    "\n",
    "def convert_row(pixel_y, scale):\n",
    "    return int(round(scale * pixel_y))\n",
    "\n",
    "def convert_col(pixel_x, scale):\n",
    "    return int(round(scale * pixel_x))\n",
    "\n"
   ]
  },
  {
   "cell_type": "code",
   "execution_count": null,
   "id": "59e06e9d-981d-49ce-bc83-64a55ece4f0b",
   "metadata": {},
   "outputs": [],
   "source": [
    "bbox=(center_x - 100 ,center_y - 100,center_x + 100,center_y + 100)\n",
    "array_y_min=convert_row(scale, bbox[1])\n",
    "array_y_max=convert_row(scale, bbox[3])\n",
    "array_x_min=convert_col(scale, bbox[0])\n",
    "array_x_max=convert_col(scale, bbox[2])\n",
    "\n",
    "print(\"min x:\\t{} --> {}\\nmax x:\\t{} --> {}\\nmin y:\\t{}  --> {}\\nmax y:\\t{}  --> {}\\n\".format(\n",
    "    bbox[0],array_x_min,bbox[2],array_x_max,bbox[1],array_y_min,bbox[3],array_y_max))\n"
   ]
  },
  {
   "cell_type": "markdown",
   "id": "3cd03f98-daec-4ba0-a102-b41027f7f2b2",
   "metadata": {},
   "source": [
    "# Cropped image"
   ]
  },
  {
   "cell_type": "code",
   "execution_count": null,
   "id": "be5dd14f-9ab1-4715-8616-5c253c82382c",
   "metadata": {},
   "outputs": [],
   "source": [
    "adata.obs['array_row']"
   ]
  },
  {
   "cell_type": "code",
   "execution_count": null,
   "id": "9c6d7a9e-7a8a-4775-b67d-8c7262139ac5",
   "metadata": {},
   "outputs": [],
   "source": [
    "mask = ((adata.obs['array_row'] >= 1000) & \n",
    "        (adata.obs['array_row'] <= 1100) & \n",
    "        (adata.obs['array_col'] >= 1000) & \n",
    "        (adata.obs['array_col'] <= 1100)\n",
    "       )\n",
    "\n",
    "bdata = adata[mask]\n",
    "print(bdata)\n"
   ]
  },
  {
   "cell_type": "code",
   "execution_count": null,
   "id": "fb594cc9-3a99-423a-9a59-2a0c3fc222c2",
   "metadata": {},
   "outputs": [],
   "source": [
    "# bdata.uns"
   ]
  },
  {
   "cell_type": "code",
   "execution_count": null,
   "id": "e7fa4f43-61d1-4062-946b-abe083b13e32",
   "metadata": {},
   "outputs": [],
   "source": [
    "sc.pl.spatial(bdata, color=[None, \"n_counts\", \"n_counts_adjusted\"], color_map=\"OrRd\",\n",
    "# sc.pl.spatial(adata, color=[None, \"n_counts\", \"n_counts_adjusted\"], color_map=\"OrRd\", # use this one for full image. Takes long\n",
    "              img_key=f\"{mpp}_mpp_{buffer}_buffer\", basis=f\"spatial_cropped_{buffer}_buffer\")\n"
   ]
  },
  {
   "cell_type": "markdown",
   "id": "6c3beef0-c7d3-43e8-9b9e-1bdf8ff318ba",
   "metadata": {},
   "source": [
    "# Stardist predict"
   ]
  },
  {
   "cell_type": "code",
   "execution_count": null,
   "id": "78d4f347-29e4-40a0-97fb-66030b860d41",
   "metadata": {},
   "outputs": [],
   "source": [
    "prob_thresh=0.01\n",
    "b2c.stardist(image_path= \"stardist/he.tiff\", \n",
    "             labels_npz_path= \"stardist/he.npz\", \n",
    "             stardist_model=\"2D_versatile_he\", \n",
    "             prob_thresh=prob_thresh\n",
    "            )\n"
   ]
  },
  {
   "cell_type": "markdown",
   "id": "c0932929-2fd6-40c2-9c00-b8a0c1526190",
   "metadata": {},
   "source": [
    "load the resulting cell calls into the object. The relevant parameters are:\n",
    " - The labels generated in the previous step\n",
    " - If the segmented image was based on array (GEX visualisation of the grid) or spatial (rescaled H&E image) coordinates\n",
    " - The key that matches the image\n",
    " - The mpp value used"
   ]
  },
  {
   "cell_type": "code",
   "execution_count": null,
   "id": "8b00f1b3-9a5b-4065-aa65-b2e8895c3fb6",
   "metadata": {},
   "outputs": [],
   "source": [
    "b2c.insert_labels(adata, \n",
    "                  labels_npz_path= \"stardist/he.npz\", \n",
    "                  basis=\"spatial\", \n",
    "                  spatial_key=\"spatial_cropped_150_buffer\",\n",
    "                  mpp=mpp, \n",
    "                  labels_key=\"labels_he\"\n",
    "                 )\n"
   ]
  },
  {
   "cell_type": "code",
   "execution_count": null,
   "id": "82a2ac21-1b2a-4a7c-bdac-4c35877226d2",
   "metadata": {},
   "outputs": [],
   "source": [
    "bdata = adata[mask]\n",
    "\n",
    "#the labels obs are integers, 0 means unassigned\n",
    "bdata = bdata[bdata.obs['labels_he']>0]\n",
    "bdata.obs['labels_he'] = bdata.obs['labels_he'].astype(str)\n",
    "\n",
    "sc.pl.spatial(bdata, color=[None, \"labels_he\"], img_key=\"0.3_mpp_150_buffer\", basis=\"spatial_cropped_150_buffer\", legend_loc='none')\n"
   ]
  },
  {
   "cell_type": "markdown",
   "id": "b5085822-d53c-49b1-b6ca-6aadd3473678",
   "metadata": {},
   "source": [
    "# Segmentation results over the H&E image."
   ]
  },
  {
   "cell_type": "code",
   "execution_count": null,
   "id": "9263f89b-e676-437f-9647-9160f4d6fa20",
   "metadata": {},
   "outputs": [],
   "source": [
    "crop = b2c.get_crop(bdata, basis=\"spatial\", spatial_key=\"spatial_cropped_150_buffer\", mpp=mpp)\n",
    "\n",
    "rendered = b2c.view_labels(image_path= \"stardist/he.tiff\", \n",
    "                           labels_npz_path=\"stardist/he.npz\", \n",
    "                           crop=crop\n",
    "                          )\n",
    "plt.imshow(rendered)\n"
   ]
  },
  {
   "cell_type": "markdown",
   "id": "e89fcab5-2d5c-447c-bb83-1e0dbcb7bba2",
   "metadata": {},
   "source": [
    "# Nuclei expand"
   ]
  },
  {
   "cell_type": "code",
   "execution_count": null,
   "id": "51020616-4d3c-42d8-9cc5-fdfafdd79716",
   "metadata": {},
   "outputs": [],
   "source": [
    "b2c.expand_labels(adata, \n",
    "                  labels_key='labels_he', \n",
    "                  expanded_labels_key=\"labels_he_expanded\"\n",
    "                 )\n"
   ]
  },
  {
   "cell_type": "code",
   "execution_count": null,
   "id": "6de47500-89d3-4632-8045-cc0224f1d604",
   "metadata": {},
   "outputs": [],
   "source": [
    "bdata = adata[mask]\n",
    "\n",
    "#the labels obs are integers, 0 means unassigned\n",
    "bdata = bdata[bdata.obs['labels_he_expanded']>0]\n",
    "bdata.obs['labels_he_expanded'] = bdata.obs['labels_he_expanded'].astype(str)\n",
    "\n",
    "sc.pl.spatial(bdata, color=[None, \"labels_he_expanded\"], img_key=\"0.3_mpp_150_buffer\", basis=\"spatial_cropped_150_buffer\")\n"
   ]
  },
  {
   "cell_type": "markdown",
   "id": "23fc01a4-ffec-41d7-81bb-c143001d63de",
   "metadata": {},
   "source": [
    "# GEx segmentation"
   ]
  },
  {
   "cell_type": "code",
   "execution_count": null,
   "id": "2044d341-699b-4a1d-ae5d-1a71a915c0d0",
   "metadata": {},
   "outputs": [],
   "source": [
    "b2c.grid_image(adata, \"n_counts_adjusted\", mpp=mpp, sigma=5, save_path= \"stardist/gex.tiff\")\n"
   ]
  },
  {
   "cell_type": "code",
   "execution_count": null,
   "id": "731cd356-6913-4d36-a2aa-175b1e7b3ab7",
   "metadata": {},
   "outputs": [],
   "source": [
    "b2c.stardist(image_path= 'visium/' + \"stardist/gex.tiff\", \n",
    "             labels_npz_path= 'visium/' + \"stardist/gex.npz\", \n",
    "             stardist_model=\"2D_versatile_fluo\", \n",
    "             prob_thresh=0.05, \n",
    "             nms_thresh=0.5\n",
    "            )\n"
   ]
  },
  {
   "cell_type": "code",
   "execution_count": null,
   "id": "b0803a4d-a5fa-4311-8442-b05330a5ab83",
   "metadata": {},
   "outputs": [],
   "source": [
    "b2c.insert_labels(adata, \n",
    "                  labels_npz_path='visium/'+\"stardist/gex.npz\", \n",
    "                  basis=\"array\", \n",
    "                  mpp=mpp, \n",
    "                  labels_key=\"labels_gex\"\n",
    "                 )\n"
   ]
  },
  {
   "cell_type": "code",
   "execution_count": null,
   "id": "7b63b708-1505-480f-8b43-a378293d97c3",
   "metadata": {},
   "outputs": [],
   "source": [
    "bdata = adata[mask]\n",
    "\n",
    "#the labels obs are integers, 0 means unassigned\n",
    "bdata = bdata[bdata.obs['labels_gex']>0]\n",
    "bdata.obs['labels_gex'] = bdata.obs['labels_gex'].astype(str)\n",
    "\n",
    "sc.pl.spatial(bdata, color=[None, \"labels_gex\"], img_key=\"0.3_mpp_150_buffer\", basis=\"spatial_cropped_150_buffer\")\n"
   ]
  },
  {
   "cell_type": "code",
   "execution_count": null,
   "id": "420351d0-d8fc-4c71-8651-93e041a51bb9",
   "metadata": {},
   "outputs": [],
   "source": [
    "#the label viewer wants a crop of the processed image\n",
    "#get the corresponding coordinates spanning the subset object\n",
    "crop = b2c.get_crop(bdata, basis=\"array\", mpp=mpp)\n",
    "\n",
    "#GEX pops better with percentile normalisation performed\n",
    "rendered = b2c.view_labels(image_path= 'visium/' + \"stardist/gex.tiff\", \n",
    "                           labels_npz_path= 'visium/' + \"stardist/gex.npz\", \n",
    "                           crop=crop,\n",
    "                           stardist_normalize=True\n",
    "                          )\n",
    "plt.imshow(rendered)\n"
   ]
  },
  {
   "cell_type": "markdown",
   "id": "1ad5a774-3637-4c94-bc44-6dd847141203",
   "metadata": {},
   "source": [
    "# Slavage"
   ]
  },
  {
   "cell_type": "code",
   "execution_count": null,
   "id": "9db4e533-3184-4f45-8cd5-863516f145a1",
   "metadata": {},
   "outputs": [],
   "source": [
    "b2c.salvage_secondary_labels(adata, \n",
    "                             primary_label=\"labels_he_expanded\", \n",
    "                             secondary_label=\"labels_gex\", \n",
    "                             labels_key=\"labels_joint\"\n",
    "                            )\n"
   ]
  },
  {
   "cell_type": "code",
   "execution_count": null,
   "id": "88d7e231-69c1-45dd-9b4e-c09fb4bd7db1",
   "metadata": {},
   "outputs": [],
   "source": [
    "bdata = adata[mask]\n",
    "\n",
    "#the labels obs are integers, 0 means unassigned\n",
    "bdata = bdata[bdata.obs['labels_joint']>0]\n",
    "bdata.obs['labels_joint'] = bdata.obs['labels_joint'].astype(str)\n",
    "\n",
    "sc.pl.spatial(bdata, color=[None, \"labels_joint_source\", \"labels_joint\"], \n",
    "              img_key=\"0.3_mpp_150_buffer\", basis=\"spatial_cropped_150_buffer\")\n"
   ]
  },
  {
   "cell_type": "markdown",
   "id": "d9c65778-c0f4-49ff-b977-65fc124cd3d8",
   "metadata": {},
   "source": [
    "# Aggregation"
   ]
  },
  {
   "cell_type": "code",
   "execution_count": null,
   "id": "ee9d82da-460b-45cc-8713-d8109c6ec1e9",
   "metadata": {},
   "outputs": [],
   "source": [
    "cdata = b2c.bin_to_cell(adata, labels_key=\"labels_joint\", spatial_keys=[\"spatial\", \"spatial_cropped_150_buffer\"])\n",
    "\n",
    "cell_mask = ((cdata.obs['array_row'] >= array_y_max+120) & \n",
    "             (cdata.obs['array_row'] <= array_y_min+180) & \n",
    "             (cdata.obs['array_col'] >= array_x_min) & \n",
    "             (cdata.obs['array_col'] <= array_x_max)\n",
    "            )\n",
    "\n",
    "ddata = cdata[cell_mask]\n",
    "sc.pl.spatial(ddata, color=[None, 'Lyz1'], \n",
    "              img_key=\"0.3_mpp_150_buffer\", basis=\"spatial_cropped_150_buffer\")\n",
    "\n"
   ]
  },
  {
   "cell_type": "markdown",
   "id": "d8b53126-5acb-4bc7-99c6-f672226482d8",
   "metadata": {},
   "source": [
    "# Clustering"
   ]
  },
  {
   "cell_type": "code",
   "execution_count": null,
   "id": "eacc572f-28cb-41fe-82ba-961afd507cb9",
   "metadata": {},
   "outputs": [],
   "source": [
    "# Normalize total counts for each cell in the AnnData object\n",
    "sc.pp.normalize_total(cdata, inplace=True)\n",
    "\n",
    "# Logarithmize the values in the AnnData object after normalization\n",
    "sc.pp.log1p(cdata)\n",
    "\n",
    "# Identify highly variable genes in the dataset using the Seurat method\n",
    "sc.pp.highly_variable_genes(cdata, flavor=\"seurat\", n_top_genes=2000)\n",
    "\n",
    "# Perform Principal Component Analysis (PCA) on the AnnData object\n",
    "sc.pp.pca(cdata)\n",
    "\n",
    "# Build a neighborhood graph based on PCA components\n",
    "sc.pp.neighbors(cdata)\n",
    "\n",
    "# Perform Leiden clustering on the neighborhood graph and store the results in 'clusters' column\n",
    "sc.tl.leiden(cdata, resolution=0.35, key_added=\"clusters\")\n"
   ]
  },
  {
   "cell_type": "code",
   "execution_count": null,
   "id": "fb46f613-d77f-4826-846e-e231f81f548a",
   "metadata": {},
   "outputs": [],
   "source": [
    "cdata.obs['clusters'].value_counts()\n"
   ]
  },
  {
   "cell_type": "code",
   "execution_count": null,
   "id": "8da3bc08-68b2-4382-9879-68729d20a3f3",
   "metadata": {},
   "outputs": [],
   "source": [
    "ddata = cdata[cell_mask]\n",
    "sc.pl.spatial(ddata, color='clusters',\n",
    "              img_key=\"0.3_mpp_150_buffer\", basis=\"spatial_cropped_150_buffer\")\n"
   ]
  }
 ],
 "metadata": {
  "kernelspec": {
   "display_name": "Python 3 (ipykernel)",
   "language": "python",
   "name": "python3"
  },
  "language_info": {
   "codemirror_mode": {
    "name": "ipython",
    "version": 3
   },
   "file_extension": ".py",
   "mimetype": "text/x-python",
   "name": "python",
   "nbconvert_exporter": "python",
   "pygments_lexer": "ipython3",
   "version": "3.10.18"
  }
 },
 "nbformat": 4,
 "nbformat_minor": 5
}
