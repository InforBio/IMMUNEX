{
 "cells": [
  {
   "cell_type": "code",
   "execution_count": 6,
   "id": "2a9f1880-5aa2-4138-972c-3ed787878a17",
   "metadata": {},
   "outputs": [
    {
     "data": {
      "text/plain": [
       "['IMMUNEX001',\n",
       " 'IMMUNEX002',\n",
       " 'IMMUNEX003',\n",
       " 'IMMUNEX004',\n",
       " 'IMMUNEX005',\n",
       " 'IMMUNEX006',\n",
       " 'IMMUNEX007',\n",
       " 'IMMUNEX008',\n",
       " 'IMMUNEX009',\n",
       " 'IMMUNEX010',\n",
       " 'IMMUNEX011',\n",
       " 'IMMUNEX012',\n",
       " 'IMMUNEX013',\n",
       " 'IMMUNEX014',\n",
       " 'IMMUNEX015',\n",
       " 'IMMUNEX016',\n",
       " 'IMMUNEX017',\n",
       " 'IMMUNEX018']"
      ]
     },
     "execution_count": 6,
     "metadata": {},
     "output_type": "execute_result"
    }
   ],
   "source": [
    "import os\n",
    "import re\n",
    "import time\n",
    "import logging\n",
    "from pathlib import Path\n",
    "\n",
    "import numpy as np\n",
    "import tifffile\n",
    "import scanpy as sc\n",
    "import bin2cell as b2c  # Ensure your environment has `bin2cell` available\n",
    "\n",
    "# ---------------- CONFIG ---------------- #\n",
    "\n",
    "\n",
    "base_sample_path = Path(\"/scratch/IMMUNEX/OUTPUT\")\n",
    "base_he_image_path = Path(\"/scratch/IMMUNEX/PJ2410310_250214/IMAGE/HE_nanozoomer_tif\")\n",
    "base_output_dir = Path(\"../../results/intermediate/bin2cell\")\n",
    "mpp = 0.7\n",
    "gene_filter_min_cells = 1\n",
    "cell_filter_min_counts = 1\n",
    "grid_image_sigma = 5\n",
    "\n",
    "# Extract sample names like IMMUNEX001 from folder names\n",
    "Samples = sorted([\n",
    "    folder.name.split(\"Visium_NSCLC_\")[1]\n",
    "    for folder in base_sample_path.glob(\"Visium_NSCLC_*\")\n",
    "    if folder.is_dir() and folder.name.startswith(\"Visium_NSCLC_IMMUNEX\")\n",
    "])\n",
    "\n",
    "mask_regions = [{\"x\": 250, \"y\": 250, \"w\": 150, \"h\": 150}]\n",
    "\n",
    "stardist_he = {\n",
    "    \"stardist_model\": \"2D_versatile_he\",\n",
    "    \"prob_thresh\": 0.3,\n",
    "    \"nms_thresh\": 0.5,\n",
    "    \"block_size\": 4096,\n",
    "    \"min_overlap\": 64,\n",
    "    \"context\": 128,\n",
    "    \"show_progress\": True\n",
    "}\n",
    "\n",
    "stardist_gex = {\n",
    "    \"stardist_model\": \"2D_versatile_fluo\",\n",
    "    \"prob_thresh\": 0.3,\n",
    "    \"nms_thresh\": 0.5,\n",
    "    \"block_size\": 4096,\n",
    "    \"min_overlap\": 64,\n",
    "    \"context\": 128,\n",
    "    \"show_progress\": True\n",
    "}\n",
    "\n",
    "Samples"
   ]
  },
  {
   "cell_type": "code",
   "execution_count": 7,
   "id": "56729a9c-1875-41b2-b533-acf25f5b675f",
   "metadata": {},
   "outputs": [
    {
     "data": {
      "text/plain": [
       "{'IMMUNEX001': PosixPath('/scratch/IMMUNEX/OUTPUT/Visium_NSCLC_IMMUNEX001'),\n",
       " 'IMMUNEX002': PosixPath('/scratch/IMMUNEX/OUTPUT/Visium_NSCLC_IMMUNEX002'),\n",
       " 'IMMUNEX003': PosixPath('/scratch/IMMUNEX/OUTPUT/Visium_NSCLC_IMMUNEX003'),\n",
       " 'IMMUNEX004': PosixPath('/scratch/IMMUNEX/OUTPUT/Visium_NSCLC_IMMUNEX004'),\n",
       " 'IMMUNEX005': PosixPath('/scratch/IMMUNEX/OUTPUT/Visium_NSCLC_IMMUNEX005'),\n",
       " 'IMMUNEX006': PosixPath('/scratch/IMMUNEX/OUTPUT/Visium_NSCLC_IMMUNEX006'),\n",
       " 'IMMUNEX007': PosixPath('/scratch/IMMUNEX/OUTPUT/Visium_NSCLC_IMMUNEX007'),\n",
       " 'IMMUNEX008': PosixPath('/scratch/IMMUNEX/OUTPUT/Visium_NSCLC_IMMUNEX008'),\n",
       " 'IMMUNEX009': PosixPath('/scratch/IMMUNEX/OUTPUT/Visium_NSCLC_IMMUNEX009'),\n",
       " 'IMMUNEX010': PosixPath('/scratch/IMMUNEX/OUTPUT/Visium_NSCLC_IMMUNEX010'),\n",
       " 'IMMUNEX011': PosixPath('/scratch/IMMUNEX/OUTPUT/Visium_NSCLC_IMMUNEX011'),\n",
       " 'IMMUNEX012': PosixPath('/scratch/IMMUNEX/OUTPUT/Visium_NSCLC_IMMUNEX012'),\n",
       " 'IMMUNEX013': PosixPath('/scratch/IMMUNEX/OUTPUT/Visium_NSCLC_IMMUNEX013'),\n",
       " 'IMMUNEX014': PosixPath('/scratch/IMMUNEX/OUTPUT/Visium_NSCLC_IMMUNEX014'),\n",
       " 'IMMUNEX015': PosixPath('/scratch/IMMUNEX/OUTPUT/Visium_NSCLC_IMMUNEX015'),\n",
       " 'IMMUNEX016': PosixPath('/scratch/IMMUNEX/OUTPUT/Visium_NSCLC_IMMUNEX016'),\n",
       " 'IMMUNEX017': PosixPath('/scratch/IMMUNEX/OUTPUT/Visium_NSCLC_IMMUNEX017'),\n",
       " 'IMMUNEX018': PosixPath('/scratch/IMMUNEX/OUTPUT/Visium_NSCLC_IMMUNEX018')}"
      ]
     },
     "execution_count": 7,
     "metadata": {},
     "output_type": "execute_result"
    }
   ],
   "source": [
    "\n",
    "# -------------- UTILITY ----------------- #\n",
    "def patched_load_image(image_path, **kwargs):\n",
    "    print(f\"Loading image via tifffile: {image_path}\")\n",
    "    img = tifffile.imread(image_path)\n",
    "    if img.ndim == 2:\n",
    "        img = np.stack([img] * 3, axis=-1)\n",
    "    elif img.shape[0] == 3 and img.ndim == 3:\n",
    "        img = np.moveaxis(img, 0, -1)\n",
    "    return img\n",
    "\n",
    "def print_log(message, type=\"info\"):\n",
    "    print(message)\n",
    "    if type == \"error\":\n",
    "        logging.error(message)\n",
    "    elif type == \"warning\":\n",
    "        logging.warning(message)\n",
    "    elif type == \"success\":\n",
    "        logging.info(message)\n",
    "    else:\n",
    "        logging.info(message)\n",
    "\n",
    "# -------------- MATCH HE FILES ---------------- #\n",
    "nanozoomer_tif = {}\n",
    "for file in base_he_image_path.glob(\"*.tif\"):\n",
    "    match = re.match(r\"(IMMUNEX\\d+)(.*)\\.tif\", file.name)\n",
    "    if match:\n",
    "        sample_id, suffix = match.groups()\n",
    "        nanozoomer_tif[sample_id] = suffix\n",
    "\n",
    "sample_folders = sorted(base_sample_path.glob(\"Visium_NSCLC_*\"))\n",
    "sample_folders_dict = {\n",
    "    folder.name.split(\"Visium_NSCLC_\")[1]: folder\n",
    "    for folder in sample_folders\n",
    "}\n",
    "sample_folders_dict"
   ]
  },
  {
   "cell_type": "code",
   "execution_count": 8,
   "id": "20f051b3-c9bc-404e-beed-8e3b532238e7",
   "metadata": {},
   "outputs": [
    {
     "name": "stderr",
     "output_type": "stream",
     "text": [
      "  0%|                                                                                                                           | 0/18 [00:00<?, ?it/s]"
     ]
    },
    {
     "name": "stdout",
     "output_type": "stream",
     "text": [
      "/scratch/IMMUNEX/OUTPUT/Visium_NSCLC_IMMUNEX001/outs/binned_outputs/square_008um/filtered_feature_bc_matrix.h5\n"
     ]
    },
    {
     "name": "stderr",
     "output_type": "stream",
     "text": [
      "anndata.py (1840): Variable names are not unique. To make them unique, call `.var_names_make_unique`.\n",
      "anndata.py (1840): Variable names are not unique. To make them unique, call `.var_names_make_unique`.\n",
      "  6%|██████▍                                                                                                            | 1/18 [00:06<01:48,  6.37s/it]"
     ]
    },
    {
     "name": "stdout",
     "output_type": "stream",
     "text": [
      "/scratch/IMMUNEX/OUTPUT/Visium_NSCLC_IMMUNEX002/outs/binned_outputs/square_008um/filtered_feature_bc_matrix.h5\n"
     ]
    },
    {
     "name": "stderr",
     "output_type": "stream",
     "text": [
      "anndata.py (1840): Variable names are not unique. To make them unique, call `.var_names_make_unique`.\n",
      "anndata.py (1840): Variable names are not unique. To make them unique, call `.var_names_make_unique`.\n",
      " 11%|████████████▊                                                                                                      | 2/18 [00:12<01:36,  6.00s/it]"
     ]
    },
    {
     "name": "stdout",
     "output_type": "stream",
     "text": [
      "/scratch/IMMUNEX/OUTPUT/Visium_NSCLC_IMMUNEX003/outs/binned_outputs/square_008um/filtered_feature_bc_matrix.h5\n"
     ]
    },
    {
     "name": "stderr",
     "output_type": "stream",
     "text": [
      "anndata.py (1840): Variable names are not unique. To make them unique, call `.var_names_make_unique`.\n",
      "anndata.py (1840): Variable names are not unique. To make them unique, call `.var_names_make_unique`.\n",
      " 17%|███████████████████▏                                                                                               | 3/18 [00:19<01:39,  6.66s/it]"
     ]
    },
    {
     "name": "stdout",
     "output_type": "stream",
     "text": [
      "/scratch/IMMUNEX/OUTPUT/Visium_NSCLC_IMMUNEX004/outs/binned_outputs/square_008um/filtered_feature_bc_matrix.h5\n"
     ]
    },
    {
     "name": "stderr",
     "output_type": "stream",
     "text": [
      "anndata.py (1840): Variable names are not unique. To make them unique, call `.var_names_make_unique`.\n",
      "anndata.py (1840): Variable names are not unique. To make them unique, call `.var_names_make_unique`.\n",
      " 22%|█████████████████████████▌                                                                                         | 4/18 [00:23<01:17,  5.53s/it]"
     ]
    },
    {
     "name": "stdout",
     "output_type": "stream",
     "text": [
      "/scratch/IMMUNEX/OUTPUT/Visium_NSCLC_IMMUNEX005/outs/binned_outputs/square_008um/filtered_feature_bc_matrix.h5\n"
     ]
    },
    {
     "name": "stderr",
     "output_type": "stream",
     "text": [
      "anndata.py (1840): Variable names are not unique. To make them unique, call `.var_names_make_unique`.\n",
      "anndata.py (1840): Variable names are not unique. To make them unique, call `.var_names_make_unique`.\n",
      " 28%|███████████████████████████████▉                                                                                   | 5/18 [00:30<01:17,  5.95s/it]"
     ]
    },
    {
     "name": "stdout",
     "output_type": "stream",
     "text": [
      "/scratch/IMMUNEX/OUTPUT/Visium_NSCLC_IMMUNEX006/outs/binned_outputs/square_008um/filtered_feature_bc_matrix.h5\n"
     ]
    },
    {
     "name": "stderr",
     "output_type": "stream",
     "text": [
      "anndata.py (1840): Variable names are not unique. To make them unique, call `.var_names_make_unique`.\n",
      "anndata.py (1840): Variable names are not unique. To make them unique, call `.var_names_make_unique`.\n",
      " 33%|██████████████████████████████████████▎                                                                            | 6/18 [00:41<01:33,  7.76s/it]"
     ]
    },
    {
     "name": "stdout",
     "output_type": "stream",
     "text": [
      "/scratch/IMMUNEX/OUTPUT/Visium_NSCLC_IMMUNEX007/outs/binned_outputs/square_008um/filtered_feature_bc_matrix.h5\n"
     ]
    },
    {
     "name": "stderr",
     "output_type": "stream",
     "text": [
      "anndata.py (1840): Variable names are not unique. To make them unique, call `.var_names_make_unique`.\n",
      "anndata.py (1840): Variable names are not unique. To make them unique, call `.var_names_make_unique`.\n",
      " 39%|████████████████████████████████████████████▋                                                                      | 7/18 [00:45<01:10,  6.44s/it]"
     ]
    },
    {
     "name": "stdout",
     "output_type": "stream",
     "text": [
      "/scratch/IMMUNEX/OUTPUT/Visium_NSCLC_IMMUNEX008/outs/binned_outputs/square_008um/filtered_feature_bc_matrix.h5\n"
     ]
    },
    {
     "name": "stderr",
     "output_type": "stream",
     "text": [
      "anndata.py (1840): Variable names are not unique. To make them unique, call `.var_names_make_unique`.\n",
      "anndata.py (1840): Variable names are not unique. To make them unique, call `.var_names_make_unique`.\n",
      " 44%|███████████████████████████████████████████████████                                                                | 8/18 [00:51<01:04,  6.40s/it]"
     ]
    },
    {
     "name": "stdout",
     "output_type": "stream",
     "text": [
      "/scratch/IMMUNEX/OUTPUT/Visium_NSCLC_IMMUNEX009/outs/binned_outputs/square_008um/filtered_feature_bc_matrix.h5\n"
     ]
    },
    {
     "name": "stderr",
     "output_type": "stream",
     "text": [
      "anndata.py (1840): Variable names are not unique. To make them unique, call `.var_names_make_unique`.\n",
      "anndata.py (1840): Variable names are not unique. To make them unique, call `.var_names_make_unique`.\n",
      " 50%|█████████████████████████████████████████████████████████▌                                                         | 9/18 [00:55<00:50,  5.66s/it]"
     ]
    },
    {
     "name": "stdout",
     "output_type": "stream",
     "text": [
      "/scratch/IMMUNEX/OUTPUT/Visium_NSCLC_IMMUNEX010/outs/binned_outputs/square_008um/filtered_feature_bc_matrix.h5\n"
     ]
    },
    {
     "name": "stderr",
     "output_type": "stream",
     "text": [
      "anndata.py (1840): Variable names are not unique. To make them unique, call `.var_names_make_unique`.\n",
      "anndata.py (1840): Variable names are not unique. To make them unique, call `.var_names_make_unique`.\n",
      " 56%|███████████████████████████████████████████████████████████████▎                                                  | 10/18 [00:59<00:42,  5.31s/it]"
     ]
    },
    {
     "name": "stdout",
     "output_type": "stream",
     "text": [
      "/scratch/IMMUNEX/OUTPUT/Visium_NSCLC_IMMUNEX011/outs/binned_outputs/square_008um/filtered_feature_bc_matrix.h5\n"
     ]
    },
    {
     "name": "stderr",
     "output_type": "stream",
     "text": [
      "anndata.py (1840): Variable names are not unique. To make them unique, call `.var_names_make_unique`.\n",
      "anndata.py (1840): Variable names are not unique. To make them unique, call `.var_names_make_unique`.\n",
      " 61%|█████████████████████████████████████████████████████████████████████▋                                            | 11/18 [01:03<00:34,  4.92s/it]"
     ]
    },
    {
     "name": "stdout",
     "output_type": "stream",
     "text": [
      "/scratch/IMMUNEX/OUTPUT/Visium_NSCLC_IMMUNEX012/outs/binned_outputs/square_008um/filtered_feature_bc_matrix.h5\n"
     ]
    },
    {
     "name": "stderr",
     "output_type": "stream",
     "text": [
      "anndata.py (1840): Variable names are not unique. To make them unique, call `.var_names_make_unique`.\n",
      "anndata.py (1840): Variable names are not unique. To make them unique, call `.var_names_make_unique`.\n",
      " 67%|████████████████████████████████████████████████████████████████████████████                                      | 12/18 [01:09<00:30,  5.02s/it]"
     ]
    },
    {
     "name": "stdout",
     "output_type": "stream",
     "text": [
      "/scratch/IMMUNEX/OUTPUT/Visium_NSCLC_IMMUNEX013/outs/binned_outputs/square_008um/filtered_feature_bc_matrix.h5\n"
     ]
    },
    {
     "name": "stderr",
     "output_type": "stream",
     "text": [
      "anndata.py (1840): Variable names are not unique. To make them unique, call `.var_names_make_unique`.\n",
      "anndata.py (1840): Variable names are not unique. To make them unique, call `.var_names_make_unique`.\n",
      " 72%|██████████████████████████████████████████████████████████████████████████████████▎                               | 13/18 [01:12<00:22,  4.45s/it]"
     ]
    },
    {
     "name": "stdout",
     "output_type": "stream",
     "text": [
      "/scratch/IMMUNEX/OUTPUT/Visium_NSCLC_IMMUNEX014/outs/binned_outputs/square_008um/filtered_feature_bc_matrix.h5\n"
     ]
    },
    {
     "name": "stderr",
     "output_type": "stream",
     "text": [
      "anndata.py (1840): Variable names are not unique. To make them unique, call `.var_names_make_unique`.\n",
      "anndata.py (1840): Variable names are not unique. To make them unique, call `.var_names_make_unique`.\n",
      " 78%|████████████████████████████████████████████████████████████████████████████████████████▋                         | 14/18 [01:18<00:19,  4.87s/it]"
     ]
    },
    {
     "name": "stdout",
     "output_type": "stream",
     "text": [
      "/scratch/IMMUNEX/OUTPUT/Visium_NSCLC_IMMUNEX015/outs/binned_outputs/square_008um/filtered_feature_bc_matrix.h5\n"
     ]
    },
    {
     "name": "stderr",
     "output_type": "stream",
     "text": [
      "anndata.py (1840): Variable names are not unique. To make them unique, call `.var_names_make_unique`.\n",
      "anndata.py (1840): Variable names are not unique. To make them unique, call `.var_names_make_unique`.\n",
      " 83%|███████████████████████████████████████████████████████████████████████████████████████████████                   | 15/18 [01:22<00:14,  4.85s/it]"
     ]
    },
    {
     "name": "stdout",
     "output_type": "stream",
     "text": [
      "/scratch/IMMUNEX/OUTPUT/Visium_NSCLC_IMMUNEX016/outs/binned_outputs/square_008um/filtered_feature_bc_matrix.h5\n"
     ]
    },
    {
     "name": "stderr",
     "output_type": "stream",
     "text": [
      "anndata.py (1840): Variable names are not unique. To make them unique, call `.var_names_make_unique`.\n",
      "anndata.py (1840): Variable names are not unique. To make them unique, call `.var_names_make_unique`.\n",
      " 89%|█████████████████████████████████████████████████████████████████████████████████████████████████████▎            | 16/18 [01:26<00:09,  4.58s/it]"
     ]
    },
    {
     "name": "stdout",
     "output_type": "stream",
     "text": [
      "/scratch/IMMUNEX/OUTPUT/Visium_NSCLC_IMMUNEX017/outs/binned_outputs/square_008um/filtered_feature_bc_matrix.h5\n"
     ]
    },
    {
     "name": "stderr",
     "output_type": "stream",
     "text": [
      "anndata.py (1840): Variable names are not unique. To make them unique, call `.var_names_make_unique`.\n",
      "anndata.py (1840): Variable names are not unique. To make them unique, call `.var_names_make_unique`.\n",
      " 94%|███████████████████████████████████████████████████████████████████████████████████████████████████████████▋      | 17/18 [01:31<00:04,  4.60s/it]"
     ]
    },
    {
     "name": "stdout",
     "output_type": "stream",
     "text": [
      "/scratch/IMMUNEX/OUTPUT/Visium_NSCLC_IMMUNEX018/outs/binned_outputs/square_008um/filtered_feature_bc_matrix.h5\n"
     ]
    },
    {
     "name": "stderr",
     "output_type": "stream",
     "text": [
      "anndata.py (1840): Variable names are not unique. To make them unique, call `.var_names_make_unique`.\n",
      "anndata.py (1840): Variable names are not unique. To make them unique, call `.var_names_make_unique`.\n",
      "100%|██████████████████████████████████████████████████████████████████████████████████████████████████████████████████| 18/18 [01:36<00:00,  5.34s/it]\n"
     ]
    }
   ],
   "source": [
    "from tqdm import tqdm\n",
    "for IMMUNEXID in tqdm(Samples):\n",
    "    if IMMUNEXID not in sample_folders_dict:\n",
    "        continue\n",
    "\n",
    "    sample_folder = sample_folders_dict[IMMUNEXID]\n",
    "    path = sample_folder / \"outs/binned_outputs/square_008um/\"\n",
    "    source_image_path = base_he_image_path / f\"{IMMUNEXID}{nanozoomer_tif[IMMUNEXID]}.tif\"\n",
    "\n",
    "    output_dir = base_output_dir\n",
    "    output_dir.mkdir(parents=True, exist_ok=True)\n",
    "\n",
    "    try:\n",
    "        b2c.bin2cell.load_image = patched_load_image\n",
    "\n",
    "        adata = b2c.read_visium(path, source_image_path=source_image_path)\n",
    "        adata.var_names_make_unique()\n",
    "\n",
    "        sc.pp.filter_genes(adata, min_cells=gene_filter_min_cells)\n",
    "        sc.pp.filter_cells(adata, min_counts=cell_filter_min_counts)\n",
    "\n",
    "        b2c.destripe(adata)\n",
    "\n",
    "        adata_out_dir = output_dir / \"adata_destriped\"\n",
    "        adata_out_dir.mkdir(exist_ok=True)\n",
    "        adata.write(adata_out_dir / f\"{IMMUNEXID}_destriped.h5ad\")\n",
    "        # sc.write_10x_mtx(adata, path=adata_out_dir, gene_symbols='gene_names')\n",
    "\n",
    "    except Exception as e:\n",
    "        print(f\"Error processing {IMMUNEXID}: {e}\")\n"
   ]
  },
  {
   "cell_type": "code",
   "execution_count": 9,
   "id": "2c1fc940-e4b1-4670-8d6b-54dd623780d9",
   "metadata": {},
   "outputs": [
    {
     "data": {
      "text/plain": [
       "PosixPath('../../results/intermediate/bin2cell/adata_destriped')"
      ]
     },
     "execution_count": 9,
     "metadata": {},
     "output_type": "execute_result"
    }
   ],
   "source": [
    "adata_out_dir"
   ]
  },
  {
   "cell_type": "code",
   "execution_count": 11,
   "id": "22caeb67-c31b-49ad-89e8-81e8a599997c",
   "metadata": {},
   "outputs": [
    {
     "data": {
      "text/plain": [
       "PosixPath('../../results/intermediate/bin2cell/adata_destriped/destriped_samples')"
      ]
     },
     "execution_count": 11,
     "metadata": {},
     "output_type": "execute_result"
    }
   ],
   "source": [
    "import shutil\n",
    "import os\n",
    "from pathlib import Path\n",
    "\n",
    "base_output_dir = Path(\"../../results/intermediate/bin2cell\")\n",
    "\n",
    "adata_out_dir = base_output_dir / \"adata_destriped\"\n",
    "\n",
    "zip_path = adata_out_dir / \"destriped_samples\"\n",
    "\n",
    "shutil.make_archive(base_name=zip_path, format='zip', root_dir=adata_out_dir)\n",
    "\n",
    "# Confirm the zip file path\n",
    "zip_path\n"
   ]
  }
 ],
 "metadata": {
  "kernelspec": {
   "display_name": "Python 3 (ipykernel)",
   "language": "python",
   "name": "python3"
  },
  "language_info": {
   "codemirror_mode": {
    "name": "ipython",
    "version": 3
   },
   "file_extension": ".py",
   "mimetype": "text/x-python",
   "name": "python",
   "nbconvert_exporter": "python",
   "pygments_lexer": "ipython3",
   "version": "3.10.16"
  }
 },
 "nbformat": 4,
 "nbformat_minor": 5
}
