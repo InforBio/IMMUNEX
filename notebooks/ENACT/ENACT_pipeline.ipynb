{
 "cells": [
  {
   "cell_type": "code",
   "execution_count": 3,
   "id": "7bb49e5c-14f8-495f-bed9-b5ba9fff386e",
   "metadata": {
    "collapsed": true,
    "jupyter": {
     "outputs_hidden": true
    },
    "scrolled": true
   },
   "outputs": [
    {
     "name": "stderr",
     "output_type": "stream",
     "text": [
      "2025-04-25 11:42:49.070769: I tensorflow/core/util/port.cc:153] oneDNN custom operations are on. You may see slightly different numerical results due to floating-point round-off errors from different computation orders. To turn them off, set the environment variable `TF_ENABLE_ONEDNN_OPTS=0`.\n",
      "2025-04-25 11:42:49.072110: I external/local_xla/xla/tsl/cuda/cudart_stub.cc:32] Could not find cuda drivers on your machine, GPU will not be used.\n",
      "2025-04-25 11:42:49.075491: I external/local_xla/xla/tsl/cuda/cudart_stub.cc:32] Could not find cuda drivers on your machine, GPU will not be used.\n",
      "2025-04-25 11:42:49.083562: E external/local_xla/xla/stream_executor/cuda/cuda_fft.cc:485] Unable to register cuFFT factory: Attempting to register factory for plugin cuFFT when one has already been registered\n",
      "2025-04-25 11:42:49.095831: E external/local_xla/xla/stream_executor/cuda/cuda_dnn.cc:8454] Unable to register cuDNN factory: Attempting to register factory for plugin cuDNN when one has already been registered\n",
      "2025-04-25 11:42:49.099395: E external/local_xla/xla/stream_executor/cuda/cuda_blas.cc:1452] Unable to register cuBLAS factory: Attempting to register factory for plugin cuBLAS when one has already been registered\n",
      "2025-04-25 11:42:49.110235: I tensorflow/core/platform/cpu_feature_guard.cc:210] This TensorFlow binary is optimized to use available CPU instructions in performance-critical operations.\n",
      "To enable the following instructions: AVX2 AVX512F AVX512_VNNI AVX512_BF16 FMA, in other operations, rebuild TensorFlow with the appropriate compiler flags.\n",
      "2025-04-25 11:42:49.879993: W tensorflow/compiler/tf2tensorrt/utils/py_utils.cc:38] TF-TRT Warning: Could not find TensorRT\n",
      "auto.py (21): IProgress not found. Please update jupyter and ipywidgets. See https://ipywidgets.readthedocs.io/en/stable/user_install.html\n"
     ]
    }
   ],
   "source": [
    "\n",
    "from enact.pipeline import ENACT"
   ]
  },
  {
   "cell_type": "code",
   "execution_count": 10,
   "id": "e84be237-a6ee-43c3-b44b-3a6659dfc1d5",
   "metadata": {},
   "outputs": [
    {
     "name": "stderr",
     "output_type": "stream",
     "text": [
      "2025-04-25 11:58:42,890 - ENACT - INFO - <initiate_instance_variables> ENACT running with the following configurations: \n",
      " analysis_name: enact_demo\n",
      " run_synthetic: False\n",
      " cache_dir: /home/mounim/enact_cache\n",
      " wsi_path: /scratch/IMMUNEX/PJ2410310_250214/IMAGE/HE_nanozoomer_tif/IMMUNEX006_Visium_HE_20_x20_z0.tif\n",
      " visiumhd_h5_path: /scratch/IMMUNEX/OUTPUT/Visium_NSCLC_IMMUNEX006/outs/binned_outputs/square_002um/filtered_feature_bc_matrix.h5\n",
      " tissue_positions_path: /scratch/IMMUNEX/OUTPUT/Visium_NSCLC_IMMUNEX006/outs/binned_outputs/square_002um/spatial/tissue_positions.parquet\n",
      " segmentation: True\n",
      " bin_to_geodataframes: True\n",
      " bin_to_cell_assignment: True\n",
      " cell_type_annotation: True\n",
      " seg_method: stardist\n",
      " image_type: he\n",
      " nucleus_expansion: True\n",
      " expand_by_nbins: 2\n",
      " patch_size: 4000\n",
      " bin_representation: polygon\n",
      " bin_to_cell_method: weighted_by_cluster\n",
      " cell_annotation_method: celltypist\n",
      " cell_typist_model: Immune_All_Low\n",
      " use_hvg: True\n",
      " n_hvg: 1000\n",
      " destripe_norm: False\n",
      " n_clusters: 4\n",
      " n_pcs: 250\n",
      " chunks_to_run: []\n",
      " block_size: 4096\n",
      " prob_thresh: 0.005\n",
      " overlap_thresh: 0.001\n",
      " min_overlap: 28\n",
      " context: 128\n",
      " n_tiles: (4, 4, 1)\n",
      " stardist_modelname: 2D_versatile_he\n",
      " channel_to_segment: 2\n",
      " cell_markers: {}\n",
      "\n"
     ]
    }
   ],
   "source": [
    "from enact.pipeline import ENACT\n",
    "\n",
    "so_hd = ENACT(\n",
    "    cache_dir=\"/home/mounim/enact_cache\",\n",
    "    wsi_path=\"/scratch/IMMUNEX/PJ2410310_250214/IMAGE/HE_nanozoomer_tif/IMMUNEX006_Visium_HE_20_x20_z0.tif\",\n",
    "    visiumhd_h5_path=\"/scratch/IMMUNEX/OUTPUT/Visium_NSCLC_IMMUNEX006/outs/binned_outputs/square_002um/filtered_feature_bc_matrix.h5\",\n",
    "    tissue_positions_path=\"/scratch/IMMUNEX/OUTPUT/Visium_NSCLC_IMMUNEX006/outs/binned_outputs/square_002um/spatial/tissue_positions.parquet\",\n",
    "    cell_typist_model=\"Immune_All_Low\"\n",
    ")\n"
   ]
  },
  {
   "cell_type": "code",
   "execution_count": null,
   "id": "63a9d65f-7ebb-4ed6-8023-7e119c7034da",
   "metadata": {},
   "outputs": [],
   "source": []
  }
 ],
 "metadata": {
  "kernelspec": {
   "display_name": "Python 3 (ipykernel)",
   "language": "python",
   "name": "python3"
  },
  "language_info": {
   "codemirror_mode": {
    "name": "ipython",
    "version": 3
   },
   "file_extension": ".py",
   "mimetype": "text/x-python",
   "name": "python",
   "nbconvert_exporter": "python",
   "pygments_lexer": "ipython3",
   "version": "3.8.20"
  }
 },
 "nbformat": 4,
 "nbformat_minor": 5
}
