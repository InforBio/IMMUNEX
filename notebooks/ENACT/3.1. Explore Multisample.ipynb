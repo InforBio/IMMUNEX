{
 "cells": [
  {
   "cell_type": "markdown",
   "metadata": {},
   "source": [
    "## Install required packages "
   ]
  },
  {
   "cell_type": "code",
   "execution_count": 1,
   "metadata": {},
   "outputs": [],
   "source": [
    "# Uncomment to install the required packages\n",
    "# !pip install numpy pandas matplotlib plotly anndata scanpy pillow tifffile\n"
   ]
  },
  {
   "cell_type": "markdown",
   "metadata": {},
   "source": [
    "## Import Required Libraries"
   ]
  },
  {
   "cell_type": "code",
   "execution_count": 1,
   "metadata": {},
   "outputs": [],
   "source": [
    "import numpy as np\n",
    "import pandas as pd\n",
    "import matplotlib.pyplot as plt\n",
    "import plotly.graph_objects as go\n",
    "from plotly.subplots import make_subplots\n",
    "import anndata as ad\n",
    "import scanpy as sc\n",
    "from PIL import Image\n",
    "import tifffile as tifi\n",
    "from IPython.display import IFrame\n",
    "from pathlib import Path\n",
    "import os; from tqdm import tqdm"
   ]
  },
  {
   "cell_type": "markdown",
   "metadata": {},
   "source": [
    "## Locate the output files\n",
    "Replace the following paths with your file paths\n",
    "\n",
    "File path template:\n",
    "- Anndata object: \"/<cache_dir>/<analysis_name>/tmap/<bin_to_cell_method>|<cell_annotation_method>_cells_adata.h5\"\n",
    "- Whole slide image: \"/<cache_dir>/<analysis_name>/tmap/wsi.tif\"\n",
    "- Cell boundaries picture = \"/<cache_dir>/<analysis_name>/cells_layer.png\""
   ]
  },
  {
   "cell_type": "code",
   "execution_count": 2,
   "metadata": {},
   "outputs": [
    {
     "data": {
      "text/plain": [
       "['/scratch/Projects/IMMUNEX/enact_cache/run6_IMMUNEX007',\n",
       " '/scratch/Projects/IMMUNEX/enact_cache/run6_IMMUNEX011',\n",
       " '/scratch/Projects/IMMUNEX/enact_cache/run6_IMMUNEX001',\n",
       " '/scratch/Projects/IMMUNEX/enact_cache/run6_IMMUNEX016',\n",
       " '/scratch/Projects/IMMUNEX/enact_cache/run6_IMMUNEX006',\n",
       " '/scratch/Projects/IMMUNEX/enact_cache/run6_IMMUNEX012',\n",
       " '/scratch/Projects/IMMUNEX/enact_cache/run6_IMMUNEX005',\n",
       " '/scratch/Projects/IMMUNEX/enact_cache/run6_IMMUNEX009',\n",
       " '/scratch/Projects/IMMUNEX/enact_cache/run6_IMMUNEX010',\n",
       " '/scratch/Projects/IMMUNEX/enact_cache/run6_IMMUNEX017',\n",
       " '/scratch/Projects/IMMUNEX/enact_cache/run6_IMMUNEX004',\n",
       " '/scratch/Projects/IMMUNEX/enact_cache/run6_IMMUNEX014',\n",
       " '/scratch/Projects/IMMUNEX/enact_cache/run6_IMMUNEX013',\n",
       " '/scratch/Projects/IMMUNEX/enact_cache/run6_IMMUNEX008',\n",
       " '/scratch/Projects/IMMUNEX/enact_cache/run6_IMMUNEX018',\n",
       " '/scratch/Projects/IMMUNEX/enact_cache/run6_IMMUNEX015',\n",
       " '/scratch/Projects/IMMUNEX/enact_cache/run6_IMMUNEX003',\n",
       " '/scratch/Projects/IMMUNEX/enact_cache/run6_IMMUNEX002']"
      ]
     },
     "execution_count": 2,
     "metadata": {},
     "output_type": "execute_result"
    }
   ],
   "source": [
    "import os\n",
    "\n",
    "# Define base directory\n",
    "base_dir = '/scratch/Projects/IMMUNEX/enact_cache'\n",
    "\n",
    "# Find all subfolders starting with \"run6\"\n",
    "run_folders = [\n",
    "    os.path.join(base_dir, folder)\n",
    "    for folder in os.listdir(base_dir)\n",
    "    if folder.startswith(\"run6\") and os.path.isdir(os.path.join(base_dir, folder))\n",
    "]\n",
    "\n",
    "run_folders"
   ]
  },
  {
   "cell_type": "code",
   "execution_count": 4,
   "metadata": {},
   "outputs": [
    {
     "name": "stderr",
     "output_type": "stream",
     "text": [
      "100%|██████████████████████████████████████████████████████████████████████████████████████████████████████████████████████████████████████████████████████████████████████████████████████████████████████████████| 18/18 [00:08<00:00,  2.06it/s]\n"
     ]
    }
   ],
   "source": [
    "import seaborn as sns\n",
    "import matplotlib.pyplot as plt\n",
    "\n",
    "all_adatas = []\n",
    "\n",
    "\n",
    "for sample_path in tqdm(run_folders):\n",
    "    try:\n",
    "        # path (basedir)\n",
    "        output_path = Path(sample_path)\n",
    "        \n",
    "        # Anndata object path\n",
    "        cells_adata_path = output_path / \"tmap/weighted_by_cluster|celltypist_cells_adata.h5\"\n",
    "        \n",
    "        # Cropped whole slide image\n",
    "        wsi_path = output_path / \"tmap/wsi.tif\"\n",
    "        \n",
    "        # Cell boundaries image\n",
    "        cells_layer_path = output_path / \"tmap/cells_layer.png\"\n",
    "    \n",
    "        # Loading Anndata object\n",
    "        adata = sc.read_h5ad(cells_adata_path)\n",
    "        adata.obs['sample_path'] = sample_path\n",
    "        adata.obs['sample'] = os.path.basename(sample_path)\n",
    "\n",
    "\n",
    "    except:\n",
    "        pass\n",
    "    \n",
    "    all_adatas.append(adata)\n",
    "\n"
   ]
  },
  {
   "cell_type": "code",
   "execution_count": 6,
   "metadata": {},
   "outputs": [
    {
     "name": "stdout",
     "output_type": "stream",
     "text": [
      "(7829536, 5759)\n"
     ]
    },
    {
     "name": "stderr",
     "output_type": "stream",
     "text": [
      "/scratch/IMMUNEX/pipelines/ENACT/enact-pipeline/enact_env/home/mounim/miniconda3/bin/python3/lib/python3.10/site-packages/anndata/_core/anndata.py:1818: UserWarning: Observation names are not unique. To make them unique, call `.obs_names_make_unique`.\n",
      "  utils.warn_names_duplicates(\"obs\")\n"
     ]
    },
    {
     "data": {
      "text/html": [
       "<div>\n",
       "<style scoped>\n",
       "    .dataframe tbody tr th:only-of-type {\n",
       "        vertical-align: middle;\n",
       "    }\n",
       "\n",
       "    .dataframe tbody tr th {\n",
       "        vertical-align: top;\n",
       "    }\n",
       "\n",
       "    .dataframe thead th {\n",
       "        text-align: right;\n",
       "    }\n",
       "</style>\n",
       "<table border=\"1\" class=\"dataframe\">\n",
       "  <thead>\n",
       "    <tr style=\"text-align: right;\">\n",
       "      <th></th>\n",
       "      <th>cell_type</th>\n",
       "      <th>patch_id</th>\n",
       "      <th>sample_path</th>\n",
       "      <th>sample</th>\n",
       "    </tr>\n",
       "    <tr>\n",
       "      <th>id</th>\n",
       "      <th></th>\n",
       "      <th></th>\n",
       "      <th></th>\n",
       "      <th></th>\n",
       "    </tr>\n",
       "  </thead>\n",
       "  <tbody>\n",
       "    <tr>\n",
       "      <th>ID_240427</th>\n",
       "      <td>epithelial cells</td>\n",
       "      <td>patch_1_1.csv</td>\n",
       "      <td>/scratch/Projects/IMMUNEX/enact_cache/run6_IMM...</td>\n",
       "      <td>run6_IMMUNEX008</td>\n",
       "    </tr>\n",
       "    <tr>\n",
       "      <th>ID_97524</th>\n",
       "      <td>double-positive thymocytes</td>\n",
       "      <td>patch_0_0.csv</td>\n",
       "      <td>/scratch/Projects/IMMUNEX/enact_cache/run6_IMM...</td>\n",
       "      <td>run6_IMMUNEX017</td>\n",
       "    </tr>\n",
       "    <tr>\n",
       "      <th>ID_122000</th>\n",
       "      <td>double-positive thymocytes</td>\n",
       "      <td>patch_0_0.csv</td>\n",
       "      <td>/scratch/Projects/IMMUNEX/enact_cache/run6_IMM...</td>\n",
       "      <td>run6_IMMUNEX012</td>\n",
       "    </tr>\n",
       "    <tr>\n",
       "      <th>ID_289172</th>\n",
       "      <td>double-positive thymocytes</td>\n",
       "      <td>patch_2_1.csv</td>\n",
       "      <td>/scratch/Projects/IMMUNEX/enact_cache/run6_IMM...</td>\n",
       "      <td>run6_IMMUNEX018</td>\n",
       "    </tr>\n",
       "    <tr>\n",
       "      <th>ID_255160</th>\n",
       "      <td>double-positive thymocytes</td>\n",
       "      <td>patch_0_0.csv</td>\n",
       "      <td>/scratch/Projects/IMMUNEX/enact_cache/run6_IMM...</td>\n",
       "      <td>run6_IMMUNEX003</td>\n",
       "    </tr>\n",
       "  </tbody>\n",
       "</table>\n",
       "</div>"
      ],
      "text/plain": [
       "                            cell_type       patch_id  \\\n",
       "id                                                     \n",
       "ID_240427            epithelial cells  patch_1_1.csv   \n",
       "ID_97524   double-positive thymocytes  patch_0_0.csv   \n",
       "ID_122000  double-positive thymocytes  patch_0_0.csv   \n",
       "ID_289172  double-positive thymocytes  patch_2_1.csv   \n",
       "ID_255160  double-positive thymocytes  patch_0_0.csv   \n",
       "\n",
       "                                                 sample_path           sample  \n",
       "id                                                                             \n",
       "ID_240427  /scratch/Projects/IMMUNEX/enact_cache/run6_IMM...  run6_IMMUNEX008  \n",
       "ID_97524   /scratch/Projects/IMMUNEX/enact_cache/run6_IMM...  run6_IMMUNEX017  \n",
       "ID_122000  /scratch/Projects/IMMUNEX/enact_cache/run6_IMM...  run6_IMMUNEX012  \n",
       "ID_289172  /scratch/Projects/IMMUNEX/enact_cache/run6_IMM...  run6_IMMUNEX018  \n",
       "ID_255160  /scratch/Projects/IMMUNEX/enact_cache/run6_IMM...  run6_IMMUNEX003  "
      ]
     },
     "metadata": {},
     "output_type": "display_data"
    },
    {
     "data": {
      "text/plain": [
       "array(['run6_IMMUNEX007', 'run6_IMMUNEX011', 'run6_IMMUNEX001',\n",
       "       'run6_IMMUNEX016', 'run6_IMMUNEX006', 'run6_IMMUNEX012',\n",
       "       'run6_IMMUNEX005', 'run6_IMMUNEX009', 'run6_IMMUNEX017',\n",
       "       'run6_IMMUNEX004', 'run6_IMMUNEX014', 'run6_IMMUNEX013',\n",
       "       'run6_IMMUNEX008', 'run6_IMMUNEX018', 'run6_IMMUNEX015',\n",
       "       'run6_IMMUNEX003'], dtype=object)"
      ]
     },
     "metadata": {},
     "output_type": "display_data"
    }
   ],
   "source": [
    "import anndata as ad\n",
    "\n",
    "merged_adata = ad.concat(all_adatas , join=\"outer\")\n",
    "\n",
    "print(merged_adata.shape)\n",
    "display(merged_adata.obs.sample(5))\n",
    "\n",
    "display(merged_adata.obs['sample'].unique())"
   ]
  },
  {
   "cell_type": "code",
   "execution_count": null,
   "metadata": {},
   "outputs": [],
   "source": []
  }
 ],
 "metadata": {
  "kernelspec": {
   "display_name": "Python 3 (ipykernel)",
   "language": "python",
   "name": "python3"
  },
  "language_info": {
   "codemirror_mode": {
    "name": "ipython",
    "version": 3
   },
   "file_extension": ".py",
   "mimetype": "text/x-python",
   "name": "python",
   "nbconvert_exporter": "python",
   "pygments_lexer": "ipython3",
   "version": "3.10.16"
  }
 },
 "nbformat": 4,
 "nbformat_minor": 4
}
