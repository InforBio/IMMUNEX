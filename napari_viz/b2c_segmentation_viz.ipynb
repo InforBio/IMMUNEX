{
 "cells": [
  {
   "cell_type": "markdown",
   "metadata": {},
   "source": [
    "# To run only on local not ssh"
   ]
  },
  {
   "cell_type": "code",
   "execution_count": 1,
   "metadata": {},
   "outputs": [],
   "source": [
    "import scanpy as sc\n",
    "import napari\n",
    "import numpy as np\n",
    "from matplotlib import cm\n",
    "from matplotlib.colors import to_hex\n",
    "\n",
    "# Load data\n",
    "adata = sc.read_h5ad(\"/Users/mounim/Downloads/bins_IMMUNEX001.h5ad\") \n",
    "coords = adata.obsm[\"spatial\"]\n",
    "coords = coords[:, [1, 0]]  # switch x and y\n",
    "\n",
    "# Image and scalefactor\n",
    "sample_id = list(adata.uns[\"spatial\"].keys())[0]\n",
    "he_img = adata.uns[\"spatial\"][sample_id][\"images\"][\"hires\"]\n",
    "scale = adata.uns[\"spatial\"][sample_id][\"scalefactors\"][\"tissue_hires_scalef\"]\n",
    "\n",
    "# Convert to pixel coordinates for the image\n",
    "coords_pixels = coords * scale\n",
    "\n",
    "\n",
    "# Convert image to uint8 if needed\n",
    "if he_img.max() <= 1.0:\n",
    "    he_img = (he_img * 255).astype(np.uint8)\n"
   ]
  },
  {
   "cell_type": "code",
   "execution_count": 2,
   "metadata": {},
   "outputs": [
    {
     "name": "stdout",
     "output_type": "stream",
     "text": [
      "Image shape: (91904, 119040, 3)\n",
      "Scale factors: 19.841105354058723 19.84\n"
     ]
    }
   ],
   "source": [
    "from skimage.io import imread\n",
    "\n",
    "he_fullres = imread(\"/Users/mounim/Documents/IMMUNEX_data/IMAGE/HE_nanozoomer_tif/IMMUNEX001_Visium_HE_x40_z0.tif\")\n",
    "# viewer.add_image(he_fullres, name=\"H&E (Fullres)\", rgb=True)\n",
    "print(\"Image shape:\", he_fullres.shape)\n",
    "\n",
    "scale_factor_y = he_fullres.shape[0] / he_img.shape[0]\n",
    "scale_factor_x = he_fullres.shape[1] / he_img.shape[1]\n",
    "\n",
    "print(\"Scale factors:\", scale_factor_y, scale_factor_x)\n"
   ]
  },
  {
   "cell_type": "code",
   "execution_count": 3,
   "metadata": {},
   "outputs": [],
   "source": [
    "coords_hd = coords_pixels.copy()\n",
    "coords_hd[:, 0] *= scale_factor_y  # y\n",
    "coords_hd[:, 1] *= scale_factor_x  # x"
   ]
  },
  {
   "cell_type": "code",
   "execution_count": 4,
   "metadata": {},
   "outputs": [
    {
     "name": "stderr",
     "output_type": "stream",
     "text": [
      "/opt/anaconda3/envs/napari_env/lib/python3.10/site-packages/napari/_vispy/layers/scalar_field.py:195: UserWarning: data shape (91904, 119040, 3) exceeds GL_MAX_TEXTURE_SIZE 16384 in at least one axis and will be downsampled. Rendering is currently in 2D mode.\n",
      "  warnings.warn(\n"
     ]
    },
    {
     "data": {
      "text/plain": [
       "<Points layer 'Spots' at 0x391709450>"
      ]
     },
     "execution_count": 4,
     "metadata": {},
     "output_type": "execute_result"
    }
   ],
   "source": [
    "from skimage.transform import resize\n",
    "\n",
    "# Viewer\n",
    "viewer = napari.Viewer()\n",
    "viewer.add_image(he_fullres, name=\"H&E\", rgb=True)\n",
    "\n",
    "\n",
    "features = adata.obs.loc[adata.obs.index[:len(coords_hd)], :].copy()\n",
    "\n",
    "# Add points (corrected coords)\n",
    "viewer.add_points(\n",
    "    coords_hd,\n",
    "    name=\"Spots\",\n",
    "    size=10,  # size now corresponds to pixels\n",
    "    face_color='red',\n",
    "    blending='translucent'\n",
    ")\n",
    "\n",
    "\n",
    "# # Optional labels\n",
    "# if 'labels_he_expanded' in adata.obs.columns:\n",
    "#     labels = adata.obs['labels_he_expanded'].values.astype(int)\n",
    "# elif 'labels_he' in adata.obs.columns:\n",
    "#     labels = adata.obs['labels_he'].values.astype(int)\n",
    "# else:\n",
    "#     labels = None\n",
    "\n",
    "# if labels is not None:\n",
    "#     viewer.layers[\"Spots\"].features = {\"celltype\": labels}\n",
    "#     viewer.layers[\"Spots\"].face_color = \"celltype\"\n",
    "#     color_cycle = [to_hex(c) for c in cm.get_cmap('tab20').colors]\n",
    "#     viewer.layers[\"Spots\"].face_color_cycle = color_cycle\n",
    "\n",
    "\n"
   ]
  },
  {
   "cell_type": "code",
   "execution_count": null,
   "metadata": {},
   "outputs": [],
   "source": [
    "import numpy as np\n",
    "from skimage.io import imread\n",
    "from skimage.measure import find_contours\n",
    "import napari\n",
    "\n",
    "def is_valid_polygon(poly):\n",
    "    # Must have at least 3 points\n",
    "    if len(poly) < 3:\n",
    "        return False\n",
    "    # Check if all points are collinear using area of triangle (shoelace formula)\n",
    "    x = poly[:, 0]\n",
    "    y = poly[:, 1]\n",
    "    area = 0.5 * np.abs(np.dot(x, np.roll(y, 1)) - np.dot(y, np.roll(x, 1)))\n",
    "    return area > 1e-3  # reject near-zero-area shapes\n",
    "\n",
    "# Load the H&E image\n",
    "image = imread(\"/Users/mounim/Documents/IMMUNEX_data/IMAGE/HE_nanozoomer_tif/IMMUNEX001_Visium_HE_x40_z0.tif\")\n",
    "\n",
    "# Load the label image\n",
    "labels = np.load(\"/Users/mounim/Downloads/he_segmentation_IMMUNEX001.npy\")\n",
    "\n",
    "# Extract polygon contours and filter\n",
    "raw_contours = find_contours(labels, level=0.5)\n",
    "shapes = [np.fliplr(c) for c in raw_contours]\n",
    "shapes = [s for s in shapes if is_valid_polygon(s)]  # ❗ Filter invalid polygons\n",
    "\n",
    "# Show in napari\n",
    "viewer = napari.Viewer()\n",
    "viewer.add_image(image, name='H&E')\n",
    "viewer.add_shapes(\n",
    "    shapes,\n",
    "    shape_type='polygon',\n",
    "    face_color='none',\n",
    "    edge_color='red',\n",
    "    edge_width=1.0,\n",
    "    name='StarDist Borders'\n",
    ")\n"
   ]
  },
  {
   "cell_type": "code",
   "execution_count": null,
   "metadata": {},
   "outputs": [],
   "source": [
    "from skimage.transform import AffineTransform\n",
    "\n",
    "# Simple scale transform based on shapes\n",
    "scale = (coords_pixels[:, 0].max() / labels.shape[1],\n",
    "         coords_pixels[:, 1].max() / labels.shape[0])\n",
    "\n",
    "tform = AffineTransform(scale=scale)\n",
    "aligned_shapes = [tform(s) for s in shapes]\n",
    "\n",
    "viewer.add_shapes(\n",
    "    aligned_shapes,\n",
    "    shape_type='polygon',\n",
    "    face_color='none',\n",
    "    edge_color='red',\n",
    "    edge_width=1.0,\n",
    "    name='Aligned Segmentation Borders'\n",
    ")\n"
   ]
  },
  {
   "cell_type": "code",
   "execution_count": null,
   "metadata": {},
   "outputs": [],
   "source": [
    "print(\"Image shape:\", image.shape)\n",
    "print(\"Labels shape:\", labels.shape)\n"
   ]
  },
  {
   "cell_type": "code",
   "execution_count": null,
   "metadata": {},
   "outputs": [],
   "source": []
  },
  {
   "cell_type": "code",
   "execution_count": null,
   "metadata": {},
   "outputs": [],
   "source": [
    "import pandas as pd\n",
    "# Prepare color cycle for categorical\n",
    "color_cycle = [to_hex(c) for c in cm.get_cmap('Set1').colors]\n",
    "\n",
    "# Columns to add as separate layers\n",
    "color_columns = ['n_counts_adjusted', 'labels_he', 'labels_he_expanded', 'labels_gex', 'labels_joint', 'labels_joint_source']\n",
    "color_columns = ['labels_joint', 'labels_joint_source']\n",
    "\n",
    "# Add one layer per column\n",
    "for col in color_columns:\n",
    "    data = features.copy()\n",
    "\n",
    "    # Prepare face color\n",
    "    if pd.api.types.is_numeric_dtype(data[col]):\n",
    "        face_color = data[col].values\n",
    "        face_color_mode = 'colormap'\n",
    "        colormap = 'viridis'\n",
    "        categorical = False\n",
    "    else:\n",
    "        data[col] = pd.Categorical(data[col])\n",
    "        face_color = data[col]\n",
    "        face_color_mode = 'cycle'\n",
    "        colormap = None\n",
    "        categorical = True\n",
    "\n",
    "            \n",
    "        # Get unique categories\n",
    "        unique_cats = data[col].cat.categories\n",
    "        n_colors = len(unique_cats)\n",
    "\n",
    "        # Get corresponding colors from your Set1 color cycle\n",
    "        legend_colors = color_cycle[:n_colors]\n",
    "\n",
    "        # Create legend positions (top-left corner, staggered)\n",
    "        legend_coords = []\n",
    "        legend_labels = []\n",
    "        for i, cat in enumerate(unique_cats):\n",
    "            y = 50 + i * 25  # vertical spacing\n",
    "            x = 50           # fixed horizontal position\n",
    "            legend_coords.append([y, x])\n",
    "            legend_labels.append(str(cat))\n",
    "\n",
    "        legend_coords = np.array(legend_coords)\n",
    "\n",
    "        # Add legend points (fake layer)\n",
    "        legend_layer = viewer.add_points(\n",
    "            legend_coords,\n",
    "            name=f\"{layer_name}_legend\",\n",
    "            face_color=legend_colors,\n",
    "            size=10,\n",
    "            blending='opaque',\n",
    "            features={\"label\": legend_labels}\n",
    "        )\n",
    "\n",
    "        legend_layer.text = {\n",
    "            \"string\": \"{label}\",\n",
    "            \"anchor\": \"center\",             # valid value\n",
    "            \"translation\": [15, 0],         # shift text right\n",
    "            \"color\": \"white\",\n",
    "            \"size\": 10,\n",
    "        }\n",
    "\n",
    "\n",
    "    layer_name = f\"Spots_{col}\"\n",
    "    viewer.add_points(\n",
    "        coords_hd,\n",
    "        name=layer_name,\n",
    "        features={col: face_color},\n",
    "        face_color=col,\n",
    "        face_color_cycle=color_cycle if categorical else None,\n",
    "        size=10,\n",
    "        blending='translucent'\n",
    "    )\n"
   ]
  },
  {
   "cell_type": "code",
   "execution_count": null,
   "metadata": {},
   "outputs": [],
   "source": []
  },
  {
   "cell_type": "code",
   "execution_count": null,
   "metadata": {},
   "outputs": [],
   "source": []
  },
  {
   "cell_type": "code",
   "execution_count": null,
   "metadata": {},
   "outputs": [],
   "source": []
  },
  {
   "cell_type": "code",
   "execution_count": null,
   "metadata": {},
   "outputs": [],
   "source": []
  },
  {
   "cell_type": "code",
   "execution_count": null,
   "metadata": {},
   "outputs": [],
   "source": []
  },
  {
   "cell_type": "code",
   "execution_count": null,
   "metadata": {},
   "outputs": [],
   "source": []
  },
  {
   "cell_type": "code",
   "execution_count": null,
   "metadata": {},
   "outputs": [],
   "source": []
  }
 ],
 "metadata": {
  "kernelspec": {
   "display_name": "napari_env",
   "language": "python",
   "name": "python3"
  },
  "language_info": {
   "codemirror_mode": {
    "name": "ipython",
    "version": 3
   },
   "file_extension": ".py",
   "mimetype": "text/x-python",
   "name": "python",
   "nbconvert_exporter": "python",
   "pygments_lexer": "ipython3",
   "version": "3.10.16"
  }
 },
 "nbformat": 4,
 "nbformat_minor": 2
}
